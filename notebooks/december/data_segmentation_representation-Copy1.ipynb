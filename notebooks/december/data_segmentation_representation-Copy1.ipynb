{
 "cells": [
  {
   "cell_type": "code",
   "execution_count": null,
   "metadata": {},
   "outputs": [],
   "source": [
    "import itertools\n",
    "import os\n",
    "from os.path import join\n",
    "import numpy as np\n",
    "import pandas as pd\n",
    "\n",
    "from scipy.spatial.transform import Rotation\n",
    "\n",
    "from plotly.subplots import make_subplots\n",
    "import plotly.graph_objects as go"
   ]
  },
  {
   "cell_type": "markdown",
   "metadata": {},
   "source": [
    "### Plot functions"
   ]
  },
  {
   "cell_type": "code",
   "execution_count": null,
   "metadata": {},
   "outputs": [],
   "source": [
    "def plot_data(x, y, header=\"\"):\n",
    "    '''Plot data from x and y with subplots.'''\n",
    "    fig = make_subplots(rows=y.shape[1], cols=1,x_title='Time',)\n",
    "    \n",
    "    for index in range(y.shape[1]):\n",
    "        fig.append_trace(go.Scatter(\n",
    "            x=x,\n",
    "            y=y.iloc[:,index],\n",
    "            name=y.columns[index],\n",
    "        ), row=index+1, col=1)\n",
    "\n",
    "    fig.update_layout(height=600, width=600, title_text=header)\n",
    "    fig.show()"
   ]
  },
  {
   "cell_type": "markdown",
   "metadata": {},
   "source": [
    "### Other"
   ]
  },
  {
   "cell_type": "code",
   "execution_count": null,
   "metadata": {},
   "outputs": [],
   "source": [
    "def export_timeseries(runs, data_array, folder_name):\n",
    "    '''Export data from array of data frames 'data_array' to csv file.'''\n",
    "    export_folder = join('..', 'data', folder_name)\n",
    "    \n",
    "    if not os.path.isdir(export_folder):\n",
    "        os.makedirs(export_folder)\n",
    "    \n",
    "    for i, r in enumerate(runs):\n",
    "        filename = os.path.split(r)\n",
    "        name = '_'.join(filename[0].split('/')[-2:] + [filename[1]])\n",
    "        data_array[i].to_csv(join(export_folder, name + '.csv'))\n",
    "\n",
    "def export_run(run, data, folder_name):\n",
    "    '''Export data from data frame 'data' to csv file.'''\n",
    "    export_folder = join('..', 'data', folder_name)\n",
    "    \n",
    "    if not os.path.isdir(export_folder):\n",
    "        os.makedirs(export_folder)\n",
    "        \n",
    "    filename = os.path.split(run)\n",
    "    name = '_'.join(filename[0].split('/')[-2:] + [filename[1]])\n",
    "    data.to_csv(join(export_folder, name + '.csv'), index=False)"
   ]
  },
  {
   "cell_type": "markdown",
   "metadata": {},
   "source": [
    "# Data choice"
   ]
  },
  {
   "cell_type": "code",
   "execution_count": null,
   "metadata": {},
   "outputs": [],
   "source": [
    "experiment = 'december'"
   ]
  },
  {
   "cell_type": "code",
   "execution_count": null,
   "metadata": {},
   "outputs": [],
   "source": [
    "fruit = 'orange'"
   ]
  },
  {
   "cell_type": "code",
   "execution_count": null,
   "metadata": {},
   "outputs": [],
   "source": [
    "cut_qualities = ['good'] # good / shallow / deep"
   ]
  },
  {
   "cell_type": "code",
   "execution_count": null,
   "metadata": {},
   "outputs": [],
   "source": [
    "frames = ['ExactoKnife']"
   ]
  },
  {
   "cell_type": "markdown",
   "metadata": {},
   "source": [
    "# Segmentation options"
   ]
  },
  {
   "cell_type": "code",
   "execution_count": null,
   "metadata": {},
   "outputs": [],
   "source": [
    "desired_nominal_time = 5"
   ]
  },
  {
   "cell_type": "markdown",
   "metadata": {},
   "source": [
    "# Data extraction"
   ]
  },
  {
   "cell_type": "code",
   "execution_count": null,
   "metadata": {},
   "outputs": [],
   "source": [
    "data_folder = join('..', 'data', 'preprocessed_transformed_data', experiment)\n",
    "print(data_folder)"
   ]
  },
  {
   "cell_type": "code",
   "execution_count": null,
   "metadata": {},
   "outputs": [],
   "source": [
    "folders  = {cq: join(data_folder, fruit, cq) for cq in cut_qualities}\n",
    "print(folders)"
   ]
  },
  {
   "cell_type": "code",
   "execution_count": null,
   "metadata": {},
   "outputs": [],
   "source": [
    "all_runs = {cq: [join(folder, file) for file in os.listdir(folder)] for cq, folder in folders.items()}"
   ]
  },
  {
   "cell_type": "code",
   "execution_count": null,
   "metadata": {},
   "outputs": [],
   "source": [
    "opt_position_header = list(itertools.chain.from_iterable((f + '_x', f + '_y', f + '_z') for f in frames))"
   ]
  },
  {
   "cell_type": "markdown",
   "metadata": {},
   "source": [
    "# Segmentation"
   ]
  },
  {
   "cell_type": "code",
   "execution_count": null,
   "metadata": {
    "scrolled": false
   },
   "outputs": [],
   "source": [
    "timeseries = {}\n",
    "for cq, runs in all_runs.items():\n",
    "    timeseries[cq] = []\n",
    "    for r in runs:\n",
    "        print('Processing run ' + r)\n",
    "        data = pd.read_csv(r)\n",
    "        \n",
    "        # cut trajectory based on gradient of force along cutting direction\n",
    "        gradient = [(b - a) for a, b in\n",
    "                        zip(data['force_x'][:-1], data['force_x'][1:])]\n",
    "        max_index = gradient.index(max(gradient))\n",
    "        min_index = gradient.index(min(gradient))\n",
    "        ignore_edges_length = -20\n",
    "        data_segmented = data.loc[max_index + ignore_edges_length:min_index - ignore_edges_length]\n",
    "        data_segmented.reset_index(inplace=True)\n",
    "        \n",
    "        #plot_data(data_segmented['relative_time'], data_segmented[ft_desired_header])\n",
    "        \n",
    "        # stretch / shorten cut to desired nominal time\n",
    "        total_time = data_segmented['relative_time'].iloc[-1] - data_segmented.loc[0, 'relative_time']\n",
    "        data_segmented.loc[:, 'relative_time'] = (data_segmented['relative_time'] - data_segmented.loc[0, 'relative_time']) / total_time * desired_nominal_time\n",
    "        \n",
    "        # set start point of cut to (0,0,0) and calculate displacement along cut\n",
    "        for column in opt_position_header:\n",
    "            data_segmented.loc[:, column] -= data_segmented.loc[0, column]\n",
    "            \n",
    "        displacement = [np.linalg.norm(x) for x in\n",
    "                            zip(data_segmented[\"ExactoKnife_x\"], data_segmented[\"ExactoKnife_y\"],\n",
    "                                data_segmented[\"ExactoKnife_z\"])]\n",
    "        data_segmented[\"displacement\"] = displacement\n",
    "        \n",
    "        export_run(r, data_segmented, join('segmented_data', experiment, fruit, cq))\n",
    "        timeseries[cq].append(data_segmented)\n",
    "        \n",
    "        \n",
    "        \n",
    "        "
   ]
  },
  {
   "cell_type": "markdown",
   "metadata": {},
   "source": [
    "# Segmentation"
   ]
  },
  {
   "cell_type": "code",
   "execution_count": null,
   "metadata": {
    "scrolled": false
   },
   "outputs": [],
   "source": [
    "fig = make_subplots(rows=3, cols=1,x_title='time [s]')\n",
    "fig1 = make_subplots(rows=3, cols=1,x_title='time [s]')\n",
    "fig2 = make_subplots(rows=3, cols=1,x_title='relative displacement from cut start [m]')\n",
    "\n",
    "timeseries2 = [] \n",
    "merge_data2 = pd.DataFrame()\n",
    "\n",
    "for i, r in enumerate(runs):\n",
    "    gradient = [(b - a) for a, b in\n",
    "                        zip(timeseries[i][\"force_x\"][:-1], timeseries[i][\"force_x\"][1:])]\n",
    "    max_index = gradient.index(max(gradient))\n",
    "    min_index = gradient.index(min(gradient))\n",
    "    ignore_edges_length = 0\n",
    "    data_segmented = timeseries[i].loc[max_index + ignore_edges_length:min_index - ignore_edges_length]\n",
    "    data_segmented.reset_index(inplace=True)\n",
    "    \n",
    "    total_time = data_segmented[\"relative_time\"].iloc[-1] - data_segmented.loc[0, \"relative_time\"]\n",
    "    data_segmented.loc[:, \"relative_time\"] = (data_segmented[\"relative_time\"] -\n",
    "                                                      data_segmented.loc[\n",
    "                                                          0, \"relative_time\"]) / total_time * 5\n",
    "    \n",
    "    for column in opt_position_header:\n",
    "        data_segmented.loc[:, column] -= data_segmented.loc[0, column]\n",
    "    \n",
    "    #plot_data(data_segmented[\"relative_time\"], data_segmented[ft_desired_header])\n",
    "    #plot_data(data_segmented[\"relative_time\"], data_segmented[opt_position_header])\n",
    "    \n",
    "    angle = np.arctan(data_segmented[\"ExactoKnife_x\"].iloc[-20] / data_segmented[\"ExactoKnife_y\"].iloc[-20])\n",
    "    R = Rotation.from_euler(\"z\", angle).as_matrix()\n",
    "    data_segmented.loc[:, \"ExactoKnife_x\"] = [(R.dot(x))[0] for x in\n",
    "                                              zip(data_segmented[\"ExactoKnife_x\"],\n",
    "                                                  data_segmented[\"ExactoKnife_y\"],\n",
    "                                                  data_segmented[\"ExactoKnife_z\"])]\n",
    "    data_segmented.loc[:, \"ExactoKnife_y\"] = [(R.dot(x))[1] for x in\n",
    "                                              zip(data_segmented[\"ExactoKnife_x\"],\n",
    "                                                  data_segmented[\"ExactoKnife_y\"],\n",
    "                                                  data_segmented[\"ExactoKnife_z\"])]\n",
    "    \n",
    "    for i, pos in enumerate(opt_position_header):\n",
    "        fig.append_trace(go.Scatter(\n",
    "                x=data_segmented[\"relative_time\"],\n",
    "                y=data_segmented[pos],\n",
    "                ), row=i+1, col=1)\n",
    "    for i, force in enumerate(ft_desired_header):\n",
    "        fig1.append_trace(go.Scatter(\n",
    "                x=data_segmented[\"relative_time\"],\n",
    "                y=data_segmented[force],\n",
    "                ), row=i+1, col=1)\n",
    "        \n",
    "    displacement = [np.linalg.norm(x) for x in\n",
    "                            zip(data_segmented[\"ExactoKnife_x\"], data_segmented[\"ExactoKnife_y\"],\n",
    "                                data_segmented[\"ExactoKnife_z\"])]\n",
    "    \n",
    "    data_segmented[\"displacement\"] = displacement\n",
    "    timeseries2.append(data_segmented)\n",
    "    \n",
    "    for i, force in enumerate(ft_desired_header):\n",
    "        fig2.append_trace(go.Scatter(\n",
    "                x=displacement,\n",
    "                y=data_segmented[force],\n",
    "                mode='markers',\n",
    "                showlegend=False,\n",
    "                ), row=i+1, col=1)\n",
    "        \n",
    "    #merge_data2 = pd.concat([merge_data2, data_segmented], axis=0)\n",
    "\n",
    "#print(merge_data2)\n",
    "        \n",
    "export_data(runs, timeseries2, \"segmented_data\")\n",
    "#export_data(runs, [merge_data2], \"concat_data\")\n",
    "\n",
    "model_x = pd.read_csv(join(data_folder,\"model_x.csv\"), names=[\"dis\",\"y\",\"y+\",\"y-\"])\n",
    "model_y = pd.read_csv(join(data_folder,\"model_y.csv\"), names=[\"dis\",\"y\",\"y+\",\"y-\"])\n",
    "model_z = pd.read_csv(join(data_folder,\"model_z.csv\"), names=[\"dis\",\"y\",\"y+\",\"y-\"])\n",
    "\n",
    "\n",
    "\n",
    "fig.update_yaxes(title_text=\"position_x [m]\", row=1, col=1)\n",
    "fig.update_yaxes(title_text=\"position_y [m]\", row=2, col=1)\n",
    "fig.update_yaxes(title_text=\"position_z [m]\", row=3, col=1)\n",
    "fig.update_layout(height=600, width=800, title_text='-'.join([fruits[0],cut_qualities[0]]),showlegend=False)\n",
    "fig.show()\n",
    "\n",
    "\n",
    "fig1.update_yaxes(title_text=\"force_x [N]\", row=1, col=1)\n",
    "fig1.update_yaxes(title_text=\"force_y [N]\", row=2, col=1)\n",
    "fig1.update_yaxes(title_text=\"force_z [N]\", row=3, col=1)\n",
    "fig1.update_layout(height=600, width=800, title_text='-'.join([fruits[0],cut_qualities[0]]),showlegend=False)\n",
    "fig1.show()\n",
    "\n",
    "for i, model in enumerate([model_x]):\n",
    "    fig2.append_trace(go.Scatter(\n",
    "                    x=model[\"dis\"],\n",
    "                    y=model[\"y\"],\n",
    "                    line=dict(color='rgb(0,0,0)', width=3),\n",
    "                    name=\"y_predicted\",\n",
    "                    ), row=i+1, col=1)\n",
    "\n",
    "    fig2.append_trace(go.Scatter(\n",
    "                    x=model[\"dis\"],\n",
    "                    y=model[\"y+\"],\n",
    "                    line=dict(color='rgb(255,0,0)', width=3),\n",
    "                    name=\"y_predicted + variance\",\n",
    "                    ), row=i+1, col=1)\n",
    "\n",
    "    fig2.append_trace(go.Scatter(\n",
    "                    x=model[\"dis\"],\n",
    "                    y=model[\"y-\"],\n",
    "                    line=dict(color='rgb(255,0,0)', width=3),\n",
    "                    name=\"y_predicted - variance\",\n",
    "                    ), row=i+1, col=1)\n",
    "\n",
    "for i, model in enumerate([model_y, model_z]):\n",
    "    fig2.append_trace(go.Scatter(\n",
    "                    x=model[\"dis\"],\n",
    "                    y=model[\"y\"],\n",
    "                    line=dict(color='rgb(0,0,0)', width=3),\n",
    "                    showlegend=False,\n",
    "                    ), row=i+2, col=1)\n",
    "\n",
    "    fig2.append_trace(go.Scatter(\n",
    "                    x=model[\"dis\"],\n",
    "                    y=model[\"y+\"],\n",
    "                    line=dict(color='rgb(255,0,0)', width=3),\n",
    "                    showlegend=False,\n",
    "                    ), row=i+2, col=1)\n",
    "\n",
    "    fig2.append_trace(go.Scatter(\n",
    "                    x=model[\"dis\"],\n",
    "                    y=model[\"y-\"],\n",
    "                    line=dict(color='rgb(255,0,0)', width=3),\n",
    "                    showlegend=False,\n",
    "                    ), row=i+2, col=1)\n",
    "\n",
    "fig2.update_yaxes(title_text=\"force_x [N]\", row=1, col=1)\n",
    "fig2.update_yaxes(title_text=\"force_y [N]\", row=2, col=1)\n",
    "fig2.update_yaxes(title_text=\"force_z [N]\", row=3, col=1)\n",
    "fig2.update_layout(height=800, width=1000, title_text='-'.join([fruits[0],cut_qualities[0]]))\n",
    "fig2.show()\n",
    "    \n",
    "    "
   ]
  },
  {
   "cell_type": "markdown",
   "metadata": {},
   "source": [
    "# Export preprocessed data"
   ]
  },
  {
   "cell_type": "code",
   "execution_count": null,
   "metadata": {},
   "outputs": [],
   "source": []
  },
  {
   "cell_type": "code",
   "execution_count": null,
   "metadata": {},
   "outputs": [],
   "source": [
    "if not os.path.isdir(export_folder):\n",
    "    os.makedirs(export_folder)"
   ]
  },
  {
   "cell_type": "code",
   "execution_count": null,
   "metadata": {},
   "outputs": [],
   "source": [
    "for i, r in enumerate(runs):\n",
    "    filename = os.path.split(r)\n",
    "    name = '_'.join(filename[0].split('/')[-2:] + [filename[1]])\n",
    "    timeseries[i].to_csv(join(export_folder, name + '.csv'))"
   ]
  },
  {
   "cell_type": "code",
   "execution_count": null,
   "metadata": {},
   "outputs": [],
   "source": []
  }
 ],
 "metadata": {
  "kernelspec": {
   "display_name": "Python 3",
   "language": "python",
   "name": "python3"
  },
  "language_info": {
   "codemirror_mode": {
    "name": "ipython",
    "version": 3
   },
   "file_extension": ".py",
   "mimetype": "text/x-python",
   "name": "python",
   "nbconvert_exporter": "python",
   "pygments_lexer": "ipython3",
   "version": "3.7.9"
  }
 },
 "nbformat": 4,
 "nbformat_minor": 4
}
