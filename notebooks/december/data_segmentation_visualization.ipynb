{
 "cells": [
  {
   "cell_type": "markdown",
   "metadata": {},
   "source": [
    "# Data segmentation and visualization\n",
    "This notebook segments and visualizes data from the CITRIFIED experiments.\n",
    "\n",
    "The data is taken from the `preprocessed_transformed_data` directory of the CITRIFIED repository (not included in source control). The `preprocessed_transformed_data`\n",
    "directory should have the following structure:\n",
    "```bash\n",
    "data\n",
    "└──preprocessed_transformed_data\n",
    "  └──experiment\n",
    "     └──fruit\n",
    "        └──cut_quality\n",
    "           ├──fruit_cutquality_run1.csv\n",
    "           ├──fruit_cutquality_run2.csv\n",
    "           ├──...\n",
    "           └──...\n",
    "```\n",
    "Where `experiment`, `fruit`, `cut_quality`, and `runX` can have arbitrary names (for example `december`, `orange`, `good`, and `1`).\n",
    "You have to configure these names below, under **Data choice**.\n",
    "\n",
    "The `csv` files contain preprocessed and transformed data from the previous step (see `preprocess_transform_data.ipynp` notebook).\n",
    "In detail, they contain Optitrack and FT sensor data of desired frames and wrench components sampled at the same time points.\n",
    "\n",
    "Until now, the segmentation happens based on the gradient of the cutting force. Only the segment between the max and min value of the gradient is kept."
   ]
  },
  {
   "cell_type": "markdown",
   "metadata": {},
   "source": [
    "## Data choice"
   ]
  },
  {
   "cell_type": "code",
   "execution_count": null,
   "metadata": {
    "pycharm": {
     "name": "#%%\n"
    }
   },
   "outputs": [],
   "source": [
    "experiment = 'december'"
   ]
  },
  {
   "cell_type": "code",
   "execution_count": null,
   "metadata": {
    "pycharm": {
     "name": "#%%\n"
    }
   },
   "outputs": [],
   "source": [
    "fruit = 'orange'"
   ]
  },
  {
   "cell_type": "code",
   "execution_count": null,
   "metadata": {
    "pycharm": {
     "name": "#%%\n"
    }
   },
   "outputs": [],
   "source": [
    "cut_qualities = ['good'] # good / shallow / deep"
   ]
  },
  {
   "cell_type": "code",
   "execution_count": null,
   "metadata": {
    "pycharm": {
     "name": "#%%\n"
    }
   },
   "outputs": [],
   "source": [
    "frames = ['ExactoKnife']"
   ]
  },
  {
   "cell_type": "code",
   "execution_count": null,
   "metadata": {
    "pycharm": {
     "name": "#%%\n"
    }
   },
   "outputs": [],
   "source": [
    "force_components = ['force'] # force and/or torque"
   ]
  },
  {
   "cell_type": "markdown",
   "metadata": {
    "pycharm": {
     "name": "#%% md\n"
    }
   },
   "source": [
    "### Imports\n"
   ]
  },
  {
   "cell_type": "code",
   "execution_count": null,
   "metadata": {
    "pycharm": {
     "name": "#%%\n"
    }
   },
   "outputs": [],
   "source": [
    "import itertools\n",
    "import os\n",
    "from os.path import join\n",
    "import numpy as np\n",
    "import pandas as pd\n",
    "\n",
    "from scipy.spatial.transform import Rotation\n",
    "\n",
    "from plotly.subplots import make_subplots\n",
    "import plotly.graph_objects as go\n"
   ]
  },
  {
   "cell_type": "markdown",
   "metadata": {},
   "source": [
    "### Plot functions"
   ]
  },
  {
   "cell_type": "code",
   "execution_count": null,
   "metadata": {
    "pycharm": {
     "name": "#%%\n"
    }
   },
   "outputs": [],
   "source": [
    "def plot_data(x, y, header=\"\"):\n",
    "    '''Plot data from x and y with subplots.'''\n",
    "    fig = make_subplots(rows=y.shape[1], cols=1,x_title='Time',)\n",
    "\n",
    "    for index in range(y.shape[1]):\n",
    "        fig.append_trace(go.Scatter(\n",
    "            x=x,\n",
    "            y=y.iloc[:,index],\n",
    "            name=y.columns[index],\n",
    "        ), row=index+1, col=1)\n",
    "\n",
    "    fig.update_layout(height=600, width=600, title_text=header)\n",
    "    fig.show()"
   ]
  },
  {
   "cell_type": "markdown",
   "metadata": {},
   "source": [
    "### Export"
   ]
  },
  {
   "cell_type": "code",
   "execution_count": null,
   "metadata": {
    "pycharm": {
     "name": "#%%\n"
    }
   },
   "outputs": [],
   "source": [
    "def export_run(run, data, folder_name):\n",
    "    '''Export data from data frame 'data' to csv file.'''\n",
    "    export_folder = join('../..', 'data', folder_name)\n",
    "\n",
    "    if not os.path.isdir(export_folder):\n",
    "        os.makedirs(export_folder)\n",
    "\n",
    "    filename = os.path.split(run)\n",
    "    data.to_csv(join(export_folder, filename[1]), index=False)\n"
   ]
  },
  {
   "cell_type": "markdown",
   "metadata": {},
   "source": [
    "## Data extraction"
   ]
  },
  {
   "cell_type": "code",
   "execution_count": null,
   "metadata": {
    "pycharm": {
     "name": "#%%\n"
    }
   },
   "outputs": [],
   "source": [
    "data_folder = join('../..', 'data', 'preprocessed_transformed_data', experiment)\n",
    "print(data_folder)"
   ]
  },
  {
   "cell_type": "code",
   "execution_count": null,
   "metadata": {
    "pycharm": {
     "name": "#%%\n"
    }
   },
   "outputs": [],
   "source": [
    "folders  = {cq: join(data_folder, fruit, cq) for cq in cut_qualities}\n",
    "print(folders)"
   ]
  },
  {
   "cell_type": "code",
   "execution_count": null,
   "metadata": {
    "pycharm": {
     "name": "#%%\n"
    }
   },
   "outputs": [],
   "source": [
    "all_runs = {cq: [join(folder, file) for file in os.listdir(folder)] for cq, folder in folders.items()}"
   ]
  },
  {
   "cell_type": "code",
   "execution_count": null,
   "metadata": {
    "pycharm": {
     "name": "#%%\n"
    }
   },
   "outputs": [],
   "source": [
    "opt_position_header = list(itertools.chain.from_iterable((f + '_x', f + '_y', f + '_z') for f in frames))"
   ]
  },
  {
   "cell_type": "code",
   "execution_count": null,
   "metadata": {
    "pycharm": {
     "name": "#%%\n"
    }
   },
   "outputs": [],
   "source": [
    "ft_desired_header = list(itertools.chain.from_iterable((v + '_x', v + '_y', v + '_z') for v in force_components))"
   ]
  },
  {
   "cell_type": "markdown",
   "metadata": {},
   "source": [
    "## Segmentation"
   ]
  },
  {
   "cell_type": "code",
   "execution_count": null,
   "metadata": {
    "scrolled": false
   },
   "outputs": [],
   "source": [
    "timeseries = {}\n",
    "for cq, runs in all_runs.items():\n",
    "    timeseries[cq] = []\n",
    "    for r in runs:\n",
    "        print('Processing run ' + r)\n",
    "        data = pd.read_csv(r)\n",
    "        \n",
    "        # cut trajectory based on gradient of force along cutting direction\n",
    "        gradient = [(b - a) for a, b in\n",
    "                        zip(data['force_x'][:-1], data['force_x'][1:])]\n",
    "        max_index = gradient.index(max(gradient))\n",
    "        min_index = gradient.index(min(gradient))\n",
    "        data_segmented = data.loc[max_index:min_index]\n",
    "        data_segmented.reset_index(inplace=True)\n",
    "        \n",
    "        #plot_data(data_segmented['relative_time'], data_segmented[ft_desired_header])\n",
    "\n",
    "        # set start point of cut to (0,0,0) and calculate displacement along cut\n",
    "        for column in opt_position_header:\n",
    "            data_segmented.loc[:, column] -= data_segmented.loc[0, column]\n",
    "            \n",
    "        displacement = [np.linalg.norm(x) for x in\n",
    "                            zip(data_segmented[\"ExactoKnife_x\"], data_segmented[\"ExactoKnife_y\"],\n",
    "                                data_segmented[\"ExactoKnife_z\"])]\n",
    "        data_segmented[\"displacement\"] = displacement\n",
    "        \n",
    "        export_run(r, data_segmented, join('segmented_data', experiment, fruit, cq))\n",
    "        timeseries[cq].append(data_segmented)       \n",
    "        "
   ]
  },
  {
   "cell_type": "markdown",
   "metadata": {},
   "source": [
    "## Visualization options"
   ]
  },
  {
   "cell_type": "code",
   "execution_count": null,
   "metadata": {
    "pycharm": {
     "name": "#%%\n"
    }
   },
   "outputs": [],
   "source": [
    "desired_nominal_time = 8"
   ]
  },
  {
   "cell_type": "markdown",
   "metadata": {},
   "source": [
    "## Data visualization"
   ]
  },
  {
   "cell_type": "code",
   "execution_count": null,
   "metadata": {
    "scrolled": false
   },
   "outputs": [],
   "source": [
    "position_time_fig = make_subplots(rows=3, cols=1,x_title='time [s]')\n",
    "force_time_fig = make_subplots(rows=3, cols=1,x_title='time [s]')\n",
    "force_displacement_fig = make_subplots(rows=3, cols=1,x_title='relative displacement from cut start [m]')\n",
    "\n",
    "for cq, runs in timeseries.items():\n",
    "    for r in runs:\n",
    "        # stretch / shorten cut to desired nominal time\n",
    "        total_time = r['relative_time'].iloc[-1] - r.loc[0, 'relative_time']\n",
    "        r.loc[:, 'relative_time'] = (r['relative_time'] - r.loc[0, 'relative_time']) / total_time * desired_nominal_time\n",
    "\n",
    "        angle = np.arctan(r['ExactoKnife_x'].iloc[-20] / r['ExactoKnife_y'].iloc[-20])\n",
    "        R = Rotation.from_euler(\"z\", angle).as_matrix()\n",
    "        r.loc[:, 'ExactoKnife_x'] = [(R.dot(x))[0] for x in\n",
    "                                      zip(r['ExactoKnife_x'],\n",
    "                                          r['ExactoKnife_y'],\n",
    "                                          r['ExactoKnife_z'])]\n",
    "        r.loc[:, 'ExactoKnife_y'] = [(R.dot(x))[1] for x in\n",
    "                                      zip(r['ExactoKnife_x'],\n",
    "                                          r['ExactoKnife_y'],\n",
    "                                          r['ExactoKnife_z'])]\n",
    "    \n",
    "        for i, pos in enumerate(opt_position_header):\n",
    "            position_time_fig.append_trace(go.Scatter(\n",
    "                    x=r['relative_time'],\n",
    "                    y=r[pos],\n",
    "                    ), row=i+1, col=1)\n",
    "            \n",
    "        for i, force in enumerate(ft_desired_header):\n",
    "            force_time_fig.append_trace(go.Scatter(\n",
    "                    x=r['relative_time'],\n",
    "                    y=r[force],\n",
    "                    ), row=i+1, col=1)\n",
    "\n",
    "        for i, force in enumerate(ft_desired_header):\n",
    "            force_displacement_fig.append_trace(go.Scatter(\n",
    "                    x=r['displacement'],\n",
    "                    y=r[force],\n",
    "                    mode='markers',\n",
    "                    showlegend=False,\n",
    "                    ), row=i+1, col=1)\n",
    "        \n",
    "\n",
    "    position_time_fig.update_yaxes(title_text='position_x [m]', row=1, col=1)\n",
    "    position_time_fig.update_yaxes(title_text='position_y [m]', row=2, col=1)\n",
    "    position_time_fig.update_yaxes(title_text='position_z [m]', row=3, col=1)\n",
    "    position_time_fig.update_layout(height=600, width=800, title_text='-'.join([fruit, cq]),showlegend=False)\n",
    "    position_time_fig.show()\n",
    "    \n",
    "    force_time_fig.update_yaxes(title_text='force_x [N]', row=1, col=1)\n",
    "    force_time_fig.update_yaxes(title_text='force_y [N]', row=2, col=1)\n",
    "    force_time_fig.update_yaxes(title_text='force_z [N]', row=3, col=1)\n",
    "    force_time_fig.update_layout(height=600, width=800, title_text='-'.join([fruit, cq]),showlegend=False)\n",
    "    force_time_fig.show()\n",
    "    \n",
    "    force_displacement_fig.update_yaxes(title_text=\"force_x [N]\", row=1, col=1)\n",
    "    force_displacement_fig.update_yaxes(title_text=\"force_y [N]\", row=2, col=1)\n",
    "    force_displacement_fig.update_yaxes(title_text=\"force_z [N]\", row=3, col=1)\n",
    "    force_displacement_fig.update_layout(height=800, width=1000, title_text='-'.join([fruit, cq]))\n",
    "    force_displacement_fig.show()\n",
    "    "
   ]
  },
  {
   "cell_type": "code",
   "execution_count": null,
   "metadata": {},
   "outputs": [],
   "source": []
  }
 ],
 "metadata": {
  "kernelspec": {
   "display_name": "Python 3",
   "language": "python",
   "name": "python3"
  },
  "language_info": {
   "codemirror_mode": {
    "name": "ipython",
    "version": 3
   },
   "file_extension": ".py",
   "mimetype": "text/x-python",
   "name": "python",
   "nbconvert_exporter": "python",
   "pygments_lexer": "ipython3",
   "version": "3.7.9"
  }
 },
 "nbformat": 4,
 "nbformat_minor": 4
}
