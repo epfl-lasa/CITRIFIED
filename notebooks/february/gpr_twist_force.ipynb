{
 "cells": [
  {
   "cell_type": "markdown",
   "metadata": {
    "pycharm": {
     "name": "#%% md\n"
    }
   },
   "source": [
    "# Visualization of dataset and simple GPR for Zeiss february slides\n",
    "This notebook simply visualizes the dataset, fits a GPR on the downsampled dataset with\n",
    "previously found hyperparameters (GridSearchCV), and creates a plot of the model on the data."
   ]
  },
  {
   "cell_type": "code",
   "execution_count": null,
   "metadata": {
    "pycharm": {
     "name": "#%%\n"
    }
   },
   "outputs": [],
   "source": [
    "from glob import glob\n",
    "from os.path import join\n",
    "import os\n",
    "import numpy as np\n",
    "import matplotlib.pyplot as plt\n",
    "import pandas as pd\n",
    "from sklearn.utils import resample\n",
    "from sklearn.preprocessing import StandardScaler\n",
    "from sklearn.model_selection import GridSearchCV\n",
    "from sklearn.gaussian_process import GaussianProcessRegressor\n",
    "from sklearn.gaussian_process.kernels import RBF\n",
    "from sklearn.metrics import mean_squared_error, make_scorer\n",
    "from plotly.subplots import make_subplots\n",
    "import plotly.graph_objects as go\n",
    "import plotly.express as px"
   ]
  },
  {
   "cell_type": "markdown",
   "metadata": {},
   "source": [
    "## Data choice"
   ]
  },
  {
   "cell_type": "code",
   "execution_count": null,
   "metadata": {
    "pycharm": {
     "name": "#%%\n"
    }
   },
   "outputs": [],
   "source": [
    "experiment = 'february'"
   ]
  },
  {
   "cell_type": "code",
   "execution_count": null,
   "metadata": {
    "pycharm": {
     "name": "#%%\n"
    }
   },
   "outputs": [],
   "source": [
    "fruit = 'orange'"
   ]
  },
  {
   "cell_type": "code",
   "execution_count": null,
   "metadata": {
    "pycharm": {
     "name": "#%%\n"
    }
   },
   "outputs": [],
   "source": [
    "cut_type = 'cut'"
   ]
  },
  {
   "cell_type": "code",
   "execution_count": null,
   "metadata": {
    "pycharm": {
     "name": "#%%\n"
    }
   },
   "outputs": [],
   "source": [
    "train_percentage = 0.7\n",
    "max_size_trainset = 1000"
   ]
  },
  {
   "cell_type": "markdown",
   "metadata": {},
   "source": [
    "## Segmented data reading"
   ]
  },
  {
   "cell_type": "code",
   "execution_count": null,
   "metadata": {
    "pycharm": {
     "name": "#%%\n"
    }
   },
   "outputs": [],
   "source": [
    "data_folder = join('../..', 'data', 'segmented_data', experiment, fruit)\n",
    "data_files = os.listdir(data_folder)\n",
    "print(data_files)"
   ]
  },
  {
   "cell_type": "code",
   "execution_count": null,
   "metadata": {
    "pycharm": {
     "name": "#%%\n"
    }
   },
   "outputs": [],
   "source": [
    "# list of dataframes with segmented data\n",
    "all_data = []\n",
    "all_data_df = pd.DataFrame()\n",
    "total_samples = 0\n",
    "\n",
    "for k, file in enumerate(data_files):\n",
    "    if cut_type not in file:\n",
    "        continue\n",
    "    if file in ['segmented_orange_cut_32_0.070000_0.006000_0.040000_0.005000.csv',\n",
    "                'segmented_orange_cut_33_0.070000_0.005000_0.050000_0.005000.csv']:\n",
    "        continue\n",
    "    if file.split('_')[5] != '0.005000':\n",
    "        continue\n",
    "    data = pd.read_csv(join(data_folder, file))\n",
    "    data = data[data['phase'] == 1]\n",
    "    data = data[data['displacement'] < 0.04]\n",
    "    #data = data[['displacement', 'ee_force_x', 'label']]\n",
    "    #data['ee_force_x'] *= -1\n",
    "    total_displacement = data['displacement'][data['ee_force_x'] > -0.2].iloc[0]\n",
    "    data['displacement'] = (data['displacement'] - data['displacement'].iloc[0]) / total_displacement * 0.9\n",
    "    total_samples += len(data.index)\n",
    "    all_data.append(data)\n",
    "    all_data_df = pd.concat([all_data_df, data])\n",
    "\n",
    "nb_runs = len(all_data)\n",
    "#print(all_data_df)\n",
    "del k, file\n",
    "plt.plot(all_data_df['displacement'], all_data_df['ee_twist_lin_x'], '.')\n",
    "plt.plot(all_data_df['displacement'], all_data_df['ee_twist_lin_y'], '.')\n",
    "plt.plot(all_data_df['displacement'], all_data_df['ee_twist_lin_z'], '.')\n",
    "plt.show()\n",
    "plt.plot(all_data_df['displacement'], all_data_df['ee_force_x'], '.')\n",
    "plt.plot(all_data_df['displacement'], all_data_df['ee_force_y'], '.')\n",
    "plt.plot(all_data_df['displacement'], all_data_df['ee_force_z'], '.')\n",
    "plt.show()"
   ]
  },
  {
   "cell_type": "markdown",
   "metadata": {
    "pycharm": {
     "name": "#%% md\n"
    }
   },
   "source": [
    "## Downsample runs"
   ]
  },
  {
   "cell_type": "code",
   "execution_count": null,
   "metadata": {
    "pycharm": {
     "name": "#%%\n"
    }
   },
   "outputs": [],
   "source": [
    "# desired_headers = ['displacement', 'force_x', 'force_y', 'force_z']\n",
    "# downsampled_data = pd.DataFrame(columns=desired_headers)\n",
    "#\n",
    "# nb_points_run = int(np.ceil(max_size_trainset / nb_runs))\n",
    "# for run in all_data:\n",
    "#     tmp = pd.DataFrame(columns=desired_headers)\n",
    "#     for header in desired_headers:\n",
    "#         tmp[header] = resample(run[header], replace=False, n_samples=nb_points_run, random_state=42)\n",
    "#     downsampled_data = pd.concat([downsampled_data, tmp])\n",
    "#     # plt.plot(tmp['displacement'], tmp['force_x'], '.')\n",
    "#     # plt.show()\n",
    "#\n",
    "# plt.plot(downsampled_data['displacement'], downsampled_data['force_x'], '.')\n",
    "# plt.show()\n",
    "#\n",
    "# del run, tmp"
   ]
  },
  {
   "cell_type": "markdown",
   "metadata": {
    "pycharm": {
     "name": "#%% md\n"
    }
   },
   "source": [
    "## Downsample dataset\n"
   ]
  },
  {
   "cell_type": "code",
   "execution_count": null,
   "metadata": {
    "pycharm": {
     "name": "#%%\n"
    }
   },
   "outputs": [],
   "source": [
    "desired_headers = ['displacement', 'ee_force_x', 'ee_force_z', 'ee_twist_lin_x', 'ee_twist_lin_z']\n",
    "\n",
    "downsampled = resample(all_data_df[desired_headers].values, replace=False, n_samples=max_size_trainset, random_state=42)\n",
    "downsampled_data = pd.DataFrame(data=downsampled, columns=desired_headers)\n",
    "\n",
    "plt.plot(downsampled_data['ee_twist_lin_x'], downsampled_data['ee_force_x'], '.')\n",
    "plt.show()\n",
    "plt.plot(downsampled_data['ee_twist_lin_z'], downsampled_data['ee_force_x'], '.')\n",
    "plt.show()\n",
    "\n",
    "del downsampled"
   ]
  },
  {
   "cell_type": "code",
   "execution_count": null,
   "metadata": {
    "pycharm": {
     "name": "#%% Plot all trajectories\n"
    }
   },
   "outputs": [],
   "source": [
    "fig = px.scatter(downsampled_data, x=\"ee_twist_lin_x\", y=\"ee_twist_lin_z\", color=\"ee_force_x\")\n",
    "fig.show()"
   ]
  },
  {
   "cell_type": "markdown",
   "metadata": {
    "pycharm": {
     "name": "#%% md\n"
    }
   },
   "source": [
    "## GPR with Grid Search CV on downsampled displacement-cutting force"
   ]
  },
  {
   "cell_type": "code",
   "execution_count": null,
   "metadata": {
    "pycharm": {
     "name": "#%%\n"
    }
   },
   "outputs": [],
   "source": [
    "scaler = StandardScaler()\n",
    "y_normalized =scaler.fit_transform(downsampled_data['ee_force_x'].values.reshape(-1,1)).flatten()\n",
    "export_data = pd.DataFrame()\n",
    "export_data['ee_twist_lin_x'] = downsampled_data['ee_twist_lin_x']\n",
    "export_data['ee_twist_lin_z'] = downsampled_data['ee_twist_lin_z']\n",
    "export_data['ee_force_x'] = y_normalized\n",
    "export_data.to_csv(join(data_folder, 'train_data_2d.csv'), index=False)\n",
    "X_ = np.atleast_2d(downsampled_data[['ee_twist_lin_x', 'ee_twist_lin_z']].values)\n",
    "y_ = np.atleast_2d(y_normalized).T.ravel()\n",
    "\n",
    "scorer = make_scorer(mean_squared_error, greater_is_better=False)\n",
    "rbf_kernel = RBF(length_scale_bounds='fixed')\n",
    "gpr = GaussianProcessRegressor(kernel=rbf_kernel,\n",
    "                               normalize_y=False,\n",
    "                               n_restarts_optimizer=10,\n",
    "                               random_state=42)\n",
    "# # config = {'alpha': [0.01, 0.05, 0.1, 0.4, 1/np.sqrt(2), 0.9],\n",
    "config = {'alpha': [100, 50, 30, 20, 15, 10, 5, 2, 1, 1/np.sqrt(2), 0.5, 0.1, 0.01, 0.001],\n",
    "          'kernel__length_scale': [0.001, 0.01, 0.1, 0.125, 0.15, 0.2]}\n",
    "search = GridSearchCV(estimator=gpr,\n",
    "                      param_grid=[config],\n",
    "                      scoring=scorer,\n",
    "                      n_jobs=-1,\n",
    "                      verbose=0)\n",
    "search.fit(X_, y_)\n",
    "print(search.best_params_)\n",
    "#print(search.cv_results_)"
   ]
  },
  {
   "cell_type": "code",
   "execution_count": null,
   "metadata": {
    "pycharm": {
     "name": "#%%\n"
    }
   },
   "outputs": [],
   "source": [
    "rbf_kernel = RBF(search.best_params_['kernel__length_scale'], length_scale_bounds='fixed')\n",
    "#rbf_kernel = RBF(0.1, length_scale_bounds='fixed')\n",
    "gpr = GaussianProcessRegressor(kernel=rbf_kernel,\n",
    "                               normalize_y=False,\n",
    "                               alpha=search.best_params_['alpha'],\n",
    "                               #alpha=10,\n",
    "                               n_restarts_optimizer=0,\n",
    "                               random_state=42)\n",
    "gpr.fit(X_,y_)\n",
    "print(gpr.get_params())\n",
    "\n",
    "gpr.score(X_, y_)\n",
    "print(mean_squared_error(y_, gpr.predict(X_)))\n",
    "res, std = gpr.predict(X_, return_std=True)\n",
    "df = pd.DataFrame()\n",
    "df['x1'] = [x[0] for x in X_]\n",
    "df['x2'] = [x[1] for x in X_]\n",
    "df['y'] = res\n",
    "df['std'] = std\n",
    "df = df.sort_values(by='x1')\n",
    "plt.plot(x1, y_, '.')\n",
    "plt.plot(df['x1'], df['y'])\n",
    "plt.plot(df['x1'], df['y'] + 2*np.sqrt(df['std']))\n",
    "plt.plot(df['x1'], df['y'] - 2*np.sqrt(df['std']))\n",
    "plt.rcParams[\"figure.figsize\"] = (10,10)\n",
    "plt.show()\n",
    "df = df.sort_values(by='x2')\n",
    "plt.plot(x2, y_, '.')\n",
    "plt.plot(df['x2'], df['y'])\n",
    "plt.plot(df['x2'], df['y'] + 2*np.sqrt(df['std']))\n",
    "plt.plot(df['x2'], df['y'] - 2*np.sqrt(df['std']))\n",
    "plt.rcParams[\"figure.figsize\"] = (10,10)\n",
    "plt.show()"
   ]
  },
  {
   "cell_type": "code",
   "execution_count": null,
   "metadata": {
    "pycharm": {
     "name": "#%%\n"
    }
   },
   "outputs": [],
   "source": [
    "x_force_dis_fig_grey.add_trace(go.Scatter(\n",
    "        x=X_.ravel()/10,\n",
    "        y=scaler.inverse_transform(res + 2*np.sqrt(std)),\n",
    "        fill=None,\n",
    "        line=dict(color='black', dash='dash'),\n",
    "        # opacity=.5,\n",
    "        showlegend=False))\n",
    "x_force_dis_fig_grey.add_trace(go.Scatter(\n",
    "        x=X_.ravel()/10,\n",
    "        y=scaler.inverse_transform(res - 2*np.sqrt(std)),\n",
    "        fill='tonexty',\n",
    "        line=dict(color='black', dash='dash'),\n",
    "        name='&plusmn; 2*\\u03C3 range' ))\n",
    "x_force_dis_fig_grey.add_trace(go.Scatter(\n",
    "        x=X_.ravel()/10,\n",
    "        y=scaler.inverse_transform(res),\n",
    "        line=dict(color='red', width=4),\n",
    "        name='Predictive mean'))\n",
    "\n",
    "x_force_dis_fig_grey.update_layout(\n",
    "    height=350,\n",
    "    width=1000,\n",
    "    title={\n",
    "        'text': \"Robot orange cut, GPR trained on 1000 data points with 5-Fold CV\",\n",
    "        'x':0.5,\n",
    "        'xanchor': 'center'},\n",
    "    xaxis_title=\"Relative displacement from cut start [m]\",\n",
    "    yaxis_title=\"Cutting force [N]\",\n",
    "    font=dict(\n",
    "        size=18,\n",
    "    )\n",
    ")\n",
    "\n",
    "x_force_dis_fig_grey.show()"
   ]
  },
  {
   "cell_type": "code",
   "execution_count": null,
   "metadata": {},
   "outputs": [],
   "source": []
  }
 ],
 "metadata": {
  "kernelspec": {
   "display_name": "Python 3",
   "language": "python",
   "name": "python3"
  },
  "language_info": {
   "codemirror_mode": {
    "name": "ipython",
    "version": 3
   },
   "file_extension": ".py",
   "mimetype": "text/x-python",
   "name": "python",
   "nbconvert_exporter": "python",
   "pygments_lexer": "ipython3",
   "version": "3.7.9"
  }
 },
 "nbformat": 4,
 "nbformat_minor": 1
}
