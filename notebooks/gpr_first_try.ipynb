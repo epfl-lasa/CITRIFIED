{
 "cells": [
  {
   "cell_type": "code",
   "execution_count": null,
   "metadata": {},
   "outputs": [],
   "source": [
    "from glob import glob\n",
    "from os.path import join\n",
    "import os\n",
    "import numpy as np\n",
    "import itertools\n",
    "from sklearn.pipeline import Pipeline\n",
    "from sklearn.decomposition import PCA\n",
    "from sklearn.model_selection import GridSearchCV, train_test_split\n",
    "from sklearn.gaussian_process import GaussianProcessRegressor\n",
    "from sklearn.gaussian_process.kernels import RBF, ConstantKernel, DotProduct, WhiteKernel, Matern\n",
    "from sklearn.utils import resample\n",
    "import matplotlib.pyplot as plt\n",
    "import pandas as pd"
   ]
  },
  {
   "cell_type": "markdown",
   "metadata": {},
   "source": [
    "# Data choice"
   ]
  },
  {
   "cell_type": "code",
   "execution_count": null,
   "metadata": {},
   "outputs": [],
   "source": [
    "experiment = 'december'"
   ]
  },
  {
   "cell_type": "code",
   "execution_count": null,
   "metadata": {},
   "outputs": [],
   "source": [
    "fruit = 'orange'"
   ]
  },
  {
   "cell_type": "code",
   "execution_count": null,
   "metadata": {},
   "outputs": [],
   "source": [
    "cut_quality = 'good' # good / shallow / deep"
   ]
  },
  {
   "cell_type": "code",
   "execution_count": null,
   "metadata": {},
   "outputs": [],
   "source": [
    "train_percentage = 0.7"
   ]
  },
  {
   "cell_type": "markdown",
   "metadata": {},
   "source": [
    "# Segmented data reading"
   ]
  },
  {
   "cell_type": "code",
   "execution_count": null,
   "metadata": {},
   "outputs": [],
   "source": [
    "data_folder = join('..', 'data', 'segmented_data', experiment, fruit, cut_quality)"
   ]
  },
  {
   "cell_type": "code",
   "execution_count": null,
   "metadata": {},
   "outputs": [],
   "source": [
    "data_files = os.listdir(data_folder)\n",
    "print(data_files)"
   ]
  },
  {
   "cell_type": "code",
   "execution_count": null,
   "metadata": {},
   "outputs": [],
   "source": [
    "timeseries = []\n",
    "\n",
    "for f in data_files:\n",
    "    data = pd.read_csv(join(data_folder, f), index_col=0)\n",
    "    data['label'] = '-'.join([fruit, cut_quality])\n",
    "    timeseries.append(data)"
   ]
  },
  {
   "cell_type": "markdown",
   "metadata": {},
   "source": [
    "# Split preparation"
   ]
  },
  {
   "cell_type": "code",
   "execution_count": null,
   "metadata": {},
   "outputs": [],
   "source": [
    "def concat_downsample_and_sort(X, Y, num_samples, sort_by, random_state=42, reset_index=True):\n",
    "    X_vector = pd.DataFrame(columns=X[0].columns)\n",
    "    Y_vector = pd.DataFrame(columns=Y[0].columns)\n",
    "    for x, y in zip(X, Y):\n",
    "        X_vector = pd.concat([X_vector, x], axis=0, ignore_index=True)\n",
    "        Y_vector = pd.concat([Y_vector, y], axis=0, ignore_index=True)\n",
    "    indices = resample(X_vector.index, replace=False, n_samples=num_samples, random_state=random_state)\n",
    "    X_vector = X_vector.iloc[indices]\n",
    "    Y_vector = Y_vector.iloc[indices]\n",
    "    X_vector = X_vector.sort_values(by=[sort_by])\n",
    "    Y_vector = Y_vector.reindex(X_vector.index)\n",
    "    if reset_index:\n",
    "        X_vector.reset_index(inplace=True)\n",
    "        Y_vector.reset_index(inplace=True)\n",
    "    return X_vector, Y_vector\n",
    "    \n",
    "\n",
    "x_header = ['displacement']\n",
    "y_header = ['force_x', 'force_y', 'force_z', 'label']\n",
    "\n",
    "X_train, X_test, y_train, y_test = train_test_split([t[x_header] for t in timeseries], [t[y_header] for t in timeseries], test_size=1-train_percentage, random_state=42)\n",
    "\n",
    "X_train_vector, y_train_vector = concat_downsample_and_sort(X_train, y_train, 1000, 'displacement')\n",
    "X_test_vector, y_test_vector = concat_downsample_and_sort(X_test, y_test, 1000, 'displacement')\n",
    "\n",
    "\n",
    "plt.plot(X_train_vector['displacement'],y_train_vector['force_x'], '.')\n",
    "plt.show()"
   ]
  },
  {
   "cell_type": "markdown",
   "metadata": {},
   "source": [
    "# ML pipeline"
   ]
  },
  {
   "cell_type": "code",
   "execution_count": null,
   "metadata": {},
   "outputs": [],
   "source": [
    "gpr = GaussianProcessRegressor(random_state=42)\n",
    "print(gpr.get_params().keys())\n",
    "rbf_kernel = RBF()\n",
    "print(rbf_kernel.get_params().keys())\n",
    "matern_kernel = 1.0 * Matern(length_scale_bounds=(1e-3, 1e3))\n",
    "matern_kernel = Matern()\n",
    "#matern_kernel = Matern()\n",
    "print(matern_kernel.get_params().keys())\n",
    "\n",
    "pipe = Pipeline(steps=[('gpr', gpr)])"
   ]
  },
  {
   "cell_type": "markdown",
   "metadata": {},
   "source": [
    "## Parameter tuning"
   ]
  },
  {
   "cell_type": "code",
   "execution_count": null,
   "metadata": {},
   "outputs": [],
   "source": [
    "print(np.mean(np.std(X_train_vector['displacement'])))\n",
    "print(np.std(y_train_vector)/np.sqrt(2))\n"
   ]
  },
  {
   "cell_type": "markdown",
   "metadata": {},
   "source": [
    "### generate configurations to test"
   ]
  },
  {
   "cell_type": "code",
   "execution_count": null,
   "metadata": {},
   "outputs": [],
   "source": [
    "config1 = {'gpr__alpha': [0.2, 0.5, 0.7],\n",
    "           'gpr__kernel': [rbf_kernel],\n",
    "           'gpr__kernel__length_scale': [0.001, 0.01, 0.05]}"
   ]
  },
  {
   "cell_type": "code",
   "execution_count": null,
   "metadata": {},
   "outputs": [],
   "source": [
    "config2 = {'gpr__alpha': [1e-10, 0.2, 0.5, 0.8],\n",
    "           'gpr__normalize_y': [True, False],\n",
    "           'gpr__kernel': [matern_kernel],\n",
    "           'gpr__kernel__k2__length_scale': [0.0001, 0.001, 0.01, 0.1, 1],\n",
    "           'gpr__kernel__k2__nu': [0.001, 0.01, 0.1, 1, 10]}"
   ]
  },
  {
   "cell_type": "code",
   "execution_count": null,
   "metadata": {},
   "outputs": [],
   "source": [
    "tuned_parameters = [config2]"
   ]
  },
  {
   "cell_type": "code",
   "execution_count": null,
   "metadata": {},
   "outputs": [],
   "source": [
    "search = GridSearchCV(pipe, tuned_parameters, n_jobs=-1, verbose=2)"
   ]
  },
  {
   "cell_type": "code",
   "execution_count": null,
   "metadata": {},
   "outputs": [],
   "source": [
    "config = {'alpha': [0.6, 0.8],\n",
    "          'kernel': [matern_kernel],\n",
    "          #'kernel__length_scale': [0.001, 1],\n",
    "          'kernel__nu': [0.001, 1]}\n",
    "search = GridSearchCV(gpr, [config], n_jobs=-1, verbose=2)"
   ]
  },
  {
   "cell_type": "markdown",
   "metadata": {},
   "source": [
    "## Best parameter search"
   ]
  },
  {
   "cell_type": "code",
   "execution_count": null,
   "metadata": {},
   "outputs": [],
   "source": [
    "search.fit(X_train_vector, y_train_vector['force_x'])\n",
    "print(\"Best parameter (CV score=%0.3f):\" % search.best_score_)\n",
    "print(search.best_params_)"
   ]
  },
  {
   "cell_type": "code",
   "execution_count": null,
   "metadata": {},
   "outputs": [],
   "source": [
    "y_pr = search.predict(X_train_vector)\n",
    "plt.plot(X_train_vector['displacement'], y_pr)\n",
    "plt.plot(X_train_vector['displacement'], y_train_vector['force_x'] , '.')\n",
    "plt.show()"
   ]
  },
  {
   "cell_type": "code",
   "execution_count": null,
   "metadata": {},
   "outputs": [],
   "source": [
    "matern_kernel = 1.0 * Matern(length_scale=1, length_scale_bounds=(1e-4, 1e1), nu=1)\n",
    "gpr2 = GaussianProcessRegressor(kernel=search.best_params_['kernel'])\n",
    "gpr2 = GaussianProcessRegressor(kernel=matern_kernel, alpha=0.5, normalize_y=True)\n",
    "#gpr2 = GaussianProcessRegressor(alpha=search.best_params_['gpr__alpha'], kernel=search.best_params_['gpr__kernel'])\n",
    "gpr2.fit(X_train_vector, y_train_vector['force_x'])"
   ]
  },
  {
   "cell_type": "code",
   "execution_count": null,
   "metadata": {},
   "outputs": [],
   "source": [
    "print(gpr2.kernel_)\n",
    "print(gpr2.log_marginal_likelihood(gpr2.kernel_.theta))"
   ]
  },
  {
   "cell_type": "code",
   "execution_count": null,
   "metadata": {},
   "outputs": [],
   "source": [
    "y_pr = gpr2.predict(X_train_vector)\n",
    "plt.plot(X_train_vector['displacement'], y_pr)\n",
    "plt.plot(X_train_vector['displacement'], y_train_vector['force_x'] , '.')\n",
    "plt.show()"
   ]
  },
  {
   "cell_type": "code",
   "execution_count": null,
   "metadata": {},
   "outputs": [],
   "source": []
  }
 ],
 "metadata": {
  "kernelspec": {
   "display_name": "Python 3",
   "language": "python",
   "name": "python3"
  },
  "language_info": {
   "codemirror_mode": {
    "name": "ipython",
    "version": 3
   },
   "file_extension": ".py",
   "mimetype": "text/x-python",
   "name": "python",
   "nbconvert_exporter": "python",
   "pygments_lexer": "ipython3",
   "version": "3.7.9"
  }
 },
 "nbformat": 4,
 "nbformat_minor": 4
}
