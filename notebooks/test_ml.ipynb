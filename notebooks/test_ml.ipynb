{
 "cells": [
  {
   "cell_type": "code",
   "execution_count": null,
   "metadata": {},
   "outputs": [],
   "source": [
    "from os.path import join\n",
    "import os\n",
    "import numpy as np\n",
    "import matplotlib.pyplot as plt\n",
    "import pandas as pd\n",
    "\n",
    "from sklearn.gaussian_process import GaussianProcessRegressor\n",
    "from sklearn.gaussian_process.kernels import RBF, ConstantKernel\n",
    "from sklearn.metrics import mean_squared_error"
   ]
  },
  {
   "cell_type": "markdown",
   "metadata": {},
   "source": [
    "# Data"
   ]
  },
  {
   "cell_type": "code",
   "execution_count": null,
   "metadata": {},
   "outputs": [],
   "source": [
    "experiment = 'december'\n",
    "fruit = 'orange'\n",
    "data_folder = join('..', 'data', 'segmented_data', experiment, fruit)\n",
    "train_data = pd.read_csv(join(data_folder,'good_standardized_sampled_train.csv'))\n",
    "test_data = pd.read_csv(join(data_folder,'good_standardized_sampled_test.csv'))\n",
    "#train_data"
   ]
  },
  {
   "cell_type": "markdown",
   "metadata": {},
   "source": [
    "# ML"
   ]
  },
  {
   "cell_type": "code",
   "execution_count": null,
   "metadata": {},
   "outputs": [],
   "source": [
    "X = np.atleast_2d(train_data['displacement'].values).T\n",
    "X_test = np.atleast_2d(test_data['displacement'].values).T\n",
    "y = np.atleast_2d(train_data['force_x'].values).T.ravel()\n",
    "\n",
    "rbf_kernel = RBF(0.1352, length_scale_bounds='fixed')\n",
    "\n",
    "gpr = GaussianProcessRegressor(kernel=rbf_kernel,\n",
    "                               normalize_y=False,\n",
    "                               alpha=1/np.sqrt(2),\n",
    "                               n_restarts_optimizer=1,\n",
    "                               random_state=42)\n",
    "\n",
    "gpr.fit(X, y)\n",
    "gpr.score(X, y)\n",
    "print(mean_squared_error(y, gpr.predict(X)))\n",
    "res, std = gpr.predict(X_test, return_std=True)\n",
    "plt.plot(X, y, '.')\n",
    "plt.plot(X_test, res)\n",
    "plt.plot(X_test, res + 2*np.sqrt(std))\n",
    "plt.plot(X_test, res - 2*np.sqrt(std))\n",
    "plt.rcParams[\"figure.figsize\"] = (10,10)\n",
    "plt.show()"
   ]
  },
  {
   "cell_type": "code",
   "execution_count": null,
   "metadata": {},
   "outputs": [],
   "source": [
    "import time\n",
    "vector = np.atleast_2d(np.linspace(X[0], X[-1], 1000))\n",
    "\n",
    "start_time = time.time()\n",
    "for i in vector:\n",
    "    timer = time.time()\n",
    "    y, std = gpr.predict(np.atleast_2d(i), return_std=True)\n",
    "    print(time.time() - timer)\n",
    "print(time.time() - start_time)\n",
    "print((time.time() - start_time) / 1000)\n"
   ]
  }
 ],
 "metadata": {
  "kernelspec": {
   "display_name": "Python 3",
   "language": "python",
   "name": "python3"
  },
  "language_info": {
   "codemirror_mode": {
    "name": "ipython",
    "version": 3
   },
   "file_extension": ".py",
   "mimetype": "text/x-python",
   "name": "python",
   "nbconvert_exporter": "python",
   "pygments_lexer": "ipython3",
   "version": "3.7.9"
  }
 },
 "nbformat": 4,
 "nbformat_minor": 4
}
