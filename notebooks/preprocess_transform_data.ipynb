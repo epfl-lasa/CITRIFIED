{
 "cells": [
  {
   "cell_type": "markdown",
   "metadata": {
    "pycharm": {
     "name": "#%% md\n"
    }
   },
   "source": [
    "# Preprocess and transform data\n",
    "This notebook processes and transforms raw data from the CITRIFIED experiments.\n",
    "\n",
    "The data is taken from the `raw_data` directory of the CITRIFIED repository (not included in source control). The `raw_data`\n",
    "directory should have the following structure:\n",
    "```bash\n",
    "data\n",
    "└──raw_data\n",
    "  └──experiment\n",
    "     └──fruit\n",
    "        └──cut_quality\n",
    "           ├──run1\n",
    "           ├──run2\n",
    "           ├──...\n",
    "           └──...\n",
    "```\n",
    "Where `experiment`, `fruit`, `cut_quality`, and `runX` can have arbitrary names (for example `december`, `orange`, `good`, and `1`).\n",
    "You have to configure these names below, under **Data choice**.\n",
    "\n",
    "The `runX` directories contain the sensor measurement data. The files needed here are `optitrack.csv` and `ft_sensor.csv`.\n",
    "For these two files, you have to specify which data you want to extract, e.g. the frame names from optitrack (for example `ExactoKnife`)\n",
    "and the wrench components from the FT sensor (for example `force`), respectively.\n",
    "\n",
    "Additionally, you have to configure transforms that are constant throughout the experiment, such that you can relate data\n",
    "from the Optitrack with FT measurements.\n",
    "\n",
    "Note that the measurement frequency of the Optitrack data is assumed to be higher than the one of the FT sensor.\n"
   ]
  },
  {
   "cell_type": "markdown",
   "metadata": {},
   "source": [
    "## Data choice"
   ]
  },
  {
   "cell_type": "code",
   "execution_count": null,
   "metadata": {
    "pycharm": {
     "name": "#%%\n"
    }
   },
   "outputs": [],
   "source": [
    "experiment = 'december'"
   ]
  },
  {
   "cell_type": "code",
   "execution_count": null,
   "metadata": {
    "pycharm": {
     "name": "#%%\n"
    }
   },
   "outputs": [],
   "source": [
    "fruit = 'orange'"
   ]
  },
  {
   "cell_type": "code",
   "execution_count": null,
   "metadata": {
    "pycharm": {
     "name": "#%%\n"
    }
   },
   "outputs": [],
   "source": [
    "cut_qualities = ['good', 'deep', 'shallow'] # good / shallow / deep"
   ]
  },
  {
   "cell_type": "code",
   "execution_count": null,
   "metadata": {
    "pycharm": {
     "name": "#%%\n"
    }
   },
   "outputs": [],
   "source": [
    "frames = ['ExactoKnife']"
   ]
  },
  {
   "cell_type": "code",
   "execution_count": null,
   "metadata": {
    "pycharm": {
     "name": "#%%\n"
    }
   },
   "outputs": [],
   "source": [
    "force_components = ['force'] # force and/or torque"
   ]
  },
  {
   "cell_type": "code",
   "execution_count": null,
   "metadata": {
    "pycharm": {
     "name": "#%%\n"
    }
   },
   "outputs": [],
   "source": [
    "knife_extension = {'default': 0.003, \"banana-deep\": 0.006}\n",
    "world_T_FT = [[-0.0032, 1.0000, 0.0062, 0.0527],\n",
    "                   [-1.0000, -0.0032, -0.0090, 0.9641],\n",
    "                   [-0.0090, -0.0062, 0.9999, 0.3465],\n",
    "                   [0, 0, 0, 1.0000]]"
   ]
  },
  {
   "cell_type": "markdown",
   "metadata": {},
   "source": [
    "## Processing options\n",
    "The data processing follows the following steps:\n",
    "1. The desired FT sensor data is extracted, the sensor offset removed, and filtered. These steps can be disabled or configured below.\n",
    "The filter used is a lowpass Butterworth filter (forward-backward) of order 2 and with cutoff frequency `filter_cutoff_freq`.\n",
    "2. The Optitrack is then downsampled to the same timestamp vector as the FT sensor data.\n",
    "3. The FT sensor and Optitrack data are merged.\n",
    "4. If `transform_all = True`, the Optitrack data is transformed to the sensing frame of the FT sensor, and the FT data is\n",
    "transformed into the cutting frame (`x`= cutting direction, `y`= tool axis pointing away from the orange, `z`= cross product in RHS).\n",
    "5. The processed and transformed data is then exported as `fruit_cutquality_runX.csv` to a directory located at\n",
    "`CITRIFIED/data/preprocessed_transformed_data/experiment/fruit/cut_quality`.\n"
   ]
  },
  {
   "cell_type": "code",
   "execution_count": null,
   "metadata": {
    "pycharm": {
     "name": "#%%\n"
    }
   },
   "outputs": [],
   "source": [
    "remove_sensor_offset = True\n",
    "if remove_sensor_offset:\n",
    "    samples = 50\n",
    "filter_force = True\n",
    "if filter_force:\n",
    "    force_cutoff_freq = 1"
   ]
  },
  {
   "cell_type": "code",
   "execution_count": null,
   "metadata": {
    "pycharm": {
     "name": "#%%\n"
    }
   },
   "outputs": [],
   "source": [
    "transform_all = True # this will transform the force into the knife frame and the knife pose into the FT frame"
   ]
  },
  {
   "cell_type": "markdown",
   "metadata": {},
   "source": [
    "### Imports"
   ]
  },
  {
   "cell_type": "code",
   "execution_count": null,
   "metadata": {},
   "outputs": [],
   "source": [
    "import itertools\n",
    "import os\n",
    "from os.path import join\n",
    "import numpy as np\n",
    "import pandas as pd\n",
    "\n",
    "from scipy.signal import sosfiltfilt, butter\n",
    "from scipy.spatial.transform import Rotation\n",
    "\n",
    "from plotly.subplots import make_subplots\n",
    "import plotly.graph_objects as go\n",
    "\n",
    "from surgeon_recording.reader import Reader"
   ]
  },
  {
   "cell_type": "markdown",
   "metadata": {},
   "source": [
    "### Data functions"
   ]
  },
  {
   "cell_type": "code",
   "execution_count": null,
   "metadata": {},
   "outputs": [],
   "source": [
    "def data_average(df):\n",
    "    '''Compute and return colum-average of data frame.'''\n",
    "    return df.mean()\n",
    "\n",
    "def quaternion_average(df):\n",
    "    '''Compute and return 'average' of quaternions from a data frame,    \n",
    "    function taken from https://stackoverflow.com/questions/12374087/average-of-multiple-quaternions'''\n",
    "    A = df.transpose().dot(df)\n",
    "    w, v = np.linalg.eig(A)\n",
    "    q = v[:, w.argmax()].real\n",
    "    q = -q if q[0] < 0 else q\n",
    "    return q\n",
    "\n",
    "def downsample(data, time_vector, average_function, selected_columns):\n",
    "    '''Downsample selected columns 'selected_colums' from data frame 'data' \n",
    "    to sample points given by 'time_vecor' with a desired downsampling function 'average_function'\n",
    "    and return the downsampled data frame.'''\n",
    "    def insert_row(data, row, labels=None):\n",
    "        return data.append(pd.Series(row, labels), ignore_index=True)\n",
    "    \n",
    "    current_time_index = 0\n",
    "    downsampled_data = pd.DataFrame(columns=selected_columns)\n",
    "    \n",
    "    for i in range(len(time_vector)):\n",
    "        t = time_vector.iloc[i]\n",
    "        start_time = current_time_index\n",
    "        \n",
    "        while current_time_index < data.shape[0] and data['relative_time'].iloc[current_time_index] < t:\n",
    "            current_time_index = current_time_index + 1\n",
    "        stop_time = current_time_index\n",
    "        \n",
    "        average_data = average_function(data.iloc[start_time:stop_time][selected_columns]) if stop_time != start_time else np.empty(len(selected_columns)) * np.nan\n",
    "        downsampled_data = insert_row(downsampled_data, average_data, selected_columns)\n",
    "        \n",
    "    return downsampled_data\n",
    "\n",
    "def remove_offset(data, num_samples):\n",
    "    '''Remove average of the first 'num_samples' from data in 'data' (colum-wise) and return centered data.'''\n",
    "    def get_offset(column, samples):\n",
    "        return np.sum(column.head(samples)) / float(samples)\n",
    "    centered_data = data.apply(lambda x: x - get_offset(x, samples), axis=0)\n",
    "    return centered_data\n",
    "\n",
    "def filter_data(data, sensor_freq, cutoff_freq=10, order=2):\n",
    "    '''Apply digital Butterworth filter with a cutoff frequency 'cutoff_freq' and order 'order'\n",
    "    forward and backward to columns in 'data'.'''\n",
    "    sos = butter(order, cutoff_freq, fs=sensor_freq, output='sos')\n",
    "    return data.apply(lambda x: sosfiltfilt(sos, x), axis=0)"
   ]
  },
  {
   "cell_type": "markdown",
   "metadata": {},
   "source": [
    "### Transform functions"
   ]
  },
  {
   "cell_type": "code",
   "execution_count": null,
   "metadata": {},
   "outputs": [],
   "source": [
    "def get_knife_transform(fruit_quality):\n",
    "    '''Compute transformation from knife to the knife tip based on the 'fruit - cut quality' configuration.\n",
    "    The different configurations are stored in 'knife_extenstion' with syntax 'fruit-cut_quality'.''' \n",
    "    if fruit_quality in knife_extension:\n",
    "        extension = knife_extension[fruit_quality]\n",
    "    else:\n",
    "        extension = knife_extension['default']\n",
    "    T = np.eye(4)\n",
    "    T[2,3] = extension\n",
    "    return T\n",
    "\n",
    "def get_hom_transform(df_row, position_headers, orientation_headers):\n",
    "    '''Compute homogeneous transformation matrix from a data frame row with 3 position components and\n",
    "    4 orientation components specifiying the quaternion in scalar-last format.'''\n",
    "    T = np.eye(4)\n",
    "    T[:3,3] = df_row[position_headers]\n",
    "    T[:3,:3] = Rotation.from_quat(df_row[orientation_headers]).as_matrix()\n",
    "    return T\n",
    "\n",
    "def get_hom_transform_inv(T):\n",
    "    '''Compute inverse of homogeneous transformation matrix.'''\n",
    "    T_inv = np.eye(4)\n",
    "    T_inv[:3,:3] = np.transpose(T[:3,:3])\n",
    "    T_inv[:3,3] = -T_inv[:3,:3].dot(T[:3,3])\n",
    "    return T_inv\n",
    "\n",
    "def transform_data(df_row, knife_tip_T, ft_headers, position_headers, orientation_headers):\n",
    "    '''Transform position, orientation and force data from 'df_row' into desired frames.\n",
    "    The optitrack position and orientation data is transformed into the FT sensor frame, \n",
    "    while the force data is transformed into the frame of the knife, and eventually into the \n",
    "    frame that is aligned with the cutting direction.'''\n",
    "    world_T_knife = get_hom_transform(df_row, position_headers, orientation_headers)\n",
    "    FT_T_knife = np.matmul(FT_T_world, np.matmul(world_T_knife, knife_tip_T))\n",
    "    df_row[position_headers] = FT_T_knife[:3,3]\n",
    "    df_row[orientation_headers] = Rotation.from_matrix(FT_T_knife[:3,:3]).as_quat()\n",
    "    knife_T_FT = get_hom_transform_inv(FT_T_knife)\n",
    "    \n",
    "    # correct for steepness too\n",
    "    desired_x_direction = np.cross([0,0,1], FT_T_knife[:3,2])\n",
    "    desired_x_direction = desired_x_direction / np.linalg.norm(desired_x_direction)\n",
    "    angle = np.arctan2(np.linalg.norm(np.cross(FT_T_knife[:3,0],desired_x_direction)), \n",
    "                       np.dot(FT_T_knife[:3,0],desired_x_direction))\n",
    "    if FT_T_knife[2,0] > 0:\n",
    "        angle = -angle\n",
    "    knife_T_cutting_direction = Rotation.from_euler(\"z\", angle, degrees=False).as_matrix()\n",
    "    \n",
    "    df_row[ft_headers] = np.matmul(knife_T_cutting_direction.transpose(),knife_T_FT[:3,:3]).dot(df_row[ft_headers])\n",
    "    return df_row"
   ]
  },
  {
   "cell_type": "markdown",
   "metadata": {},
   "source": [
    "### Plot functions"
   ]
  },
  {
   "cell_type": "code",
   "execution_count": null,
   "metadata": {},
   "outputs": [],
   "source": [
    "def plot_data(x, y, header=\"\"):\n",
    "    '''Plot data from x and y with subplots.'''\n",
    "    fig = make_subplots(rows=y.shape[1], cols=1,x_title='Time',)\n",
    "    \n",
    "    for index in range(y.shape[1]):\n",
    "        fig.append_trace(go.Scatter(\n",
    "            x=x,\n",
    "            y=y.iloc[:,index],\n",
    "            name=y.columns[index],\n",
    "        ), row=index+1, col=1)\n",
    "\n",
    "    fig.update_layout(height=600, width=600, title_text=header)\n",
    "    fig.show()"
   ]
  },
  {
   "cell_type": "markdown",
   "metadata": {},
   "source": [
    "### Export"
   ]
  },
  {
   "cell_type": "code",
   "execution_count": null,
   "metadata": {},
   "outputs": [],
   "source": [
    "def export_run(run, data, folder_name):\n",
    "    '''Export data from data frame 'data' to csv file.'''\n",
    "    export_folder = join('..', 'data', folder_name)\n",
    "    \n",
    "    if not os.path.isdir(export_folder):\n",
    "        os.makedirs(export_folder)\n",
    "        \n",
    "    filename = os.path.split(run)\n",
    "    name = '_'.join(filename[0].split('/')[-2:] + [filename[1]])\n",
    "    data.to_csv(join(export_folder, name + '.csv'), index=False)"
   ]
  },
  {
   "cell_type": "markdown",
   "metadata": {},
   "source": [
    "# Data extraction"
   ]
  },
  {
   "cell_type": "code",
   "execution_count": null,
   "metadata": {},
   "outputs": [],
   "source": [
    "reader = Reader()"
   ]
  },
  {
   "cell_type": "code",
   "execution_count": null,
   "metadata": {},
   "outputs": [],
   "source": [
    "data_folder = join('..', 'data', 'raw_data', experiment)\n",
    "print(data_folder)"
   ]
  },
  {
   "cell_type": "code",
   "execution_count": null,
   "metadata": {},
   "outputs": [],
   "source": [
    "folders  = {cq: join(data_folder, fruit, cq) for cq in cut_qualities}\n",
    "print(folders)"
   ]
  },
  {
   "cell_type": "code",
   "execution_count": null,
   "metadata": {},
   "outputs": [],
   "source": [
    "all_runs = {cq: [x[0] for x in os.walk(folder, followlinks=True)][1:] for cq, folder in folders.items()}"
   ]
  },
  {
   "cell_type": "code",
   "execution_count": null,
   "metadata": {},
   "outputs": [],
   "source": [
    "opt_position_header = list(itertools.chain.from_iterable((f + '_x', f + '_y', f + '_z') for f in frames))\n",
    "opt_orient_header = list(itertools.chain.from_iterable((f + '_qx', f + '_qy', f + '_qz', f + '_qw') for f in frames))"
   ]
  },
  {
   "cell_type": "code",
   "execution_count": null,
   "metadata": {},
   "outputs": [],
   "source": [
    "ft_desired_header = list(itertools.chain.from_iterable((v + '_x', v + '_y', v + '_z') for v in force_components))"
   ]
  },
  {
   "cell_type": "markdown",
   "metadata": {},
   "source": [
    "# Downsampling, Transformation and Export"
   ]
  },
  {
   "cell_type": "code",
   "execution_count": null,
   "metadata": {
    "scrolled": false
   },
   "outputs": [],
   "source": [
    "FT_T_world = get_hom_transform_inv(np.array(world_T_FT))\n",
    "\n",
    "for cq, runs in all_runs.items():\n",
    "    for r in runs:\n",
    "        print('Processing run ' + r)\n",
    "        reader.play(r)\n",
    "        timestamp = reader.data['ft_sensor']['relative_time']\n",
    "        timestamp.reset_index(drop= True,inplace=True)\n",
    "\n",
    "        # exctract force data\n",
    "        force_data = reader.data['ft_sensor'][ft_desired_header].reset_index(drop=True)\n",
    "        if remove_sensor_offset:\n",
    "            force_data = remove_offset(force_data, samples)\n",
    "        if filter_force:\n",
    "            sensor_freq = timestamp.shape[0] / (timestamp.iloc[-1] - timestamp.iloc[0])\n",
    "            force_data = filter_data(force_data, sensor_freq, cutoff_freq=force_cutoff_freq)\n",
    "        # plot_data(timestamp,force_data)\n",
    "\n",
    "        # downsample optitrack data\n",
    "        opt_position_data = downsample(reader.data['optitrack'], timestamp, data_average, opt_position_header)\n",
    "        opt_orient_data = downsample(reader.data['optitrack'], timestamp, quaternion_average, opt_orient_header)\n",
    "        # plot_data(timestamp, opt_position_data[opt_position_header])\n",
    "        \n",
    "        # merge the data\n",
    "        merge_data = pd.concat([timestamp, opt_position_data, opt_orient_data, force_data], axis=1)\n",
    "        merge_data = merge_data.dropna()\n",
    "        \n",
    "        # transform optitrack to FT frame and force to knife frame\n",
    "        if transform_all:\n",
    "            merge_data.apply(lambda x: transform_data(x, get_knife_transform(\"-\".join([fruit, cq])), \n",
    "                                                      ft_desired_header, opt_position_header, opt_orient_header),\n",
    "                             axis=1)\n",
    "        # plot_data(timestamp, merge_data[opt_position_header])\n",
    "        # plot_data(timestamp, merge_data[ft_desired_header])\n",
    "        \n",
    "        export_run(r, merge_data, join('preprocessed_transformed_data', experiment, fruit, cq))"
   ]
  }
 ],
 "metadata": {
  "kernelspec": {
   "display_name": "Python 3",
   "language": "python",
   "name": "python3"
  },
  "language_info": {
   "codemirror_mode": {
    "name": "ipython",
    "version": 3
   },
   "file_extension": ".py",
   "mimetype": "text/x-python",
   "name": "python",
   "nbconvert_exporter": "python",
   "pygments_lexer": "ipython3",
   "version": "3.7.9"
  }
 },
 "nbformat": 4,
 "nbformat_minor": 4
}