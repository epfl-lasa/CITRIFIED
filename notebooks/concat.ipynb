{
 "cells": [
  {
   "cell_type": "code",
   "execution_count": null,
   "metadata": {},
   "outputs": [],
   "source": [
    "from glob import glob\n",
    "from os.path import join\n",
    "import os\n",
    "import numpy as np\n",
    "import itertools\n",
    "import matplotlib.pyplot as plt\n",
    "import pandas as pd\n",
    "from sklearn.preprocessing import StandardScaler\n",
    "from sklearn.utils import resample\n",
    "from sklearn.model_selection import train_test_split"
   ]
  },
  {
   "cell_type": "markdown",
   "metadata": {},
   "source": [
    "# Data choice"
   ]
  },
  {
   "cell_type": "code",
   "execution_count": null,
   "metadata": {},
   "outputs": [],
   "source": [
    "experiment = 'december'"
   ]
  },
  {
   "cell_type": "code",
   "execution_count": null,
   "metadata": {},
   "outputs": [],
   "source": [
    "fruit = 'orange'"
   ]
  },
  {
   "cell_type": "code",
   "execution_count": null,
   "metadata": {},
   "outputs": [],
   "source": [
    "cut_quality = 'good' # good / shallow / deep"
   ]
  },
  {
   "cell_type": "markdown",
   "metadata": {},
   "source": [
    "# Segmented data reading"
   ]
  },
  {
   "cell_type": "code",
   "execution_count": null,
   "metadata": {},
   "outputs": [],
   "source": [
    "data_folder = join('..', 'data', 'segmented_data', experiment, fruit, cut_quality)"
   ]
  },
  {
   "cell_type": "code",
   "execution_count": null,
   "metadata": {},
   "outputs": [],
   "source": [
    "data_files = os.listdir(data_folder)\n",
    "print(data_files)"
   ]
  },
  {
   "cell_type": "code",
   "execution_count": null,
   "metadata": {},
   "outputs": [],
   "source": [
    "all_data = pd.DataFrame()\n",
    "\n",
    "for f in data_files:\n",
    "    data = pd.read_csv(join(data_folder, f), index_col=0)\n",
    "    data['label'] = '-'.join([fruit, cut_quality])\n",
    "    all_data = pd.concat([all_data, data], ignore_index=True)\n",
    "    \n",
    "#all_data"
   ]
  },
  {
   "cell_type": "code",
   "execution_count": null,
   "metadata": {},
   "outputs": [],
   "source": [
    "headers = ['displacement', 'force_x', 'force_y', 'force_z', 'label']\n",
    "feature_headers = ['force_x', 'force_y', 'force_z']\n",
    "all_data = all_data[headers]\n",
    "all_data['displacement'] = all_data['displacement']*10\n",
    "\n",
    "x = all_data[headers].values\n",
    "x_train, x_test = train_test_split(x, test_size=200, train_size=500, random_state=42, shuffle=True)\n",
    "train_data = pd.DataFrame(x_train, columns=headers)\n",
    "test_data = pd.DataFrame(x_test, columns=headers)\n",
    "\n",
    "if True:\n",
    "    scaler = StandardScaler()\n",
    "    x = train_data[feature_headers].values\n",
    "    scaler.fit(x)\n",
    "    \n",
    "    train_data_standardized = scaler.transform(x)\n",
    "    df_temp = pd.DataFrame(train_data_standardized, columns=feature_headers, index = train_data.index)\n",
    "    train_data[feature_headers] = df_temp\n",
    "    train_data = train_data.sort_values('displacement')\n",
    "    train_data.reset_index(inplace=True, drop=True)\n",
    "    \n",
    "    test_data_standardized = scaler.transform(test_data[feature_headers].values)\n",
    "    df_temp = pd.DataFrame(test_data_standardized, columns=feature_headers, index = test_data.index)\n",
    "    test_data[feature_headers] = df_temp\n",
    "    test_data = test_data.sort_values('displacement')\n",
    "    test_data.reset_index(inplace=True, drop=True)\n",
    "test_data"
   ]
  },
  {
   "cell_type": "code",
   "execution_count": null,
   "metadata": {},
   "outputs": [],
   "source": [
    "train_data.to_csv(join(data_folder, '..', 'good_standardized_sampled_train.csv'), index=False)\n",
    "test_data.to_csv(join(data_folder, '..', 'good_standardized_sampled_test.csv'), index=False)"
   ]
  },
  {
   "cell_type": "code",
   "execution_count": null,
   "metadata": {},
   "outputs": [],
   "source": [
    "plt.plot(train_data['displacement'], train_data['force_x'], '.')\n",
    "plt.plot(test_data['displacement'], test_data['force_x'], '.')\n",
    "plt.show()"
   ]
  },
  {
   "cell_type": "code",
   "execution_count": null,
   "metadata": {},
   "outputs": [],
   "source": []
  }
 ],
 "metadata": {
  "kernelspec": {
   "display_name": "Python 3",
   "language": "python",
   "name": "python3"
  },
  "language_info": {
   "codemirror_mode": {
    "name": "ipython",
    "version": 3
   },
   "file_extension": ".py",
   "mimetype": "text/x-python",
   "name": "python",
   "nbconvert_exporter": "python",
   "pygments_lexer": "ipython3",
   "version": "3.7.9"
  }
 },
 "nbformat": 4,
 "nbformat_minor": 4
}
