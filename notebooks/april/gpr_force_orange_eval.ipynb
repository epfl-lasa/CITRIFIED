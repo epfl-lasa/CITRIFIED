{
 "cells": [
  {
   "cell_type": "code",
   "execution_count": null,
   "metadata": {},
   "outputs": [],
   "source": [
    "import os\n",
    "import numpy as np\n",
    "from scipy.io import loadmat\n",
    "from sklearn.preprocessing import StandardScaler\n",
    "from sklearn.gaussian_process import GaussianProcessRegressor\n",
    "from sklearn.gaussian_process.kernels import RBF, Matern, WhiteKernel\n",
    "import plotly.graph_objects as go\n",
    "import pickle"
   ]
  },
  {
   "cell_type": "markdown",
   "metadata": {},
   "source": [
    "## Load model"
   ]
  },
  {
   "cell_type": "code",
   "execution_count": null,
   "metadata": {},
   "outputs": [],
   "source": [
    "with open('gpr_rbf.pickle', 'rb') as f:\n",
    "    model = pickle.load(f)\n",
    "gpr = model['gpr']\n",
    "scaler = model['scaler']\n",
    "del model"
   ]
  },
  {
   "cell_type": "markdown",
   "metadata": {},
   "source": [
    "## Load data from mat and plot"
   ]
  },
  {
   "cell_type": "code",
   "execution_count": null,
   "metadata": {
    "scrolled": false
   },
   "outputs": [],
   "source": [
    "data = loadmat('orange_straight_eval.mat')\n",
    "\n",
    "for i in range(len(data['straight_cuts'][0])):\n",
    "    cut = data['straight_cuts'][0][i]\n",
    "    time = cut[:,0]\n",
    "    y = cut[:,8]\n",
    "    X = cut[:,[1,5]]\n",
    "    X[:,0] = [-10*x for x in X[:,0]]\n",
    "    pred_force, std = gpr.predict(X, return_std=True)\n",
    "    pred_force = scaler.inverse_transform(pred_force)\n",
    "    std = 2*np.sqrt(std) * scaler.scale_\n",
    "    fig = go.Figure(data=[\n",
    "    go.Scatter(x=time, y=pred_force.ravel() + std, fill=None, line=dict(color='black', dash='dash'), showlegend=False),\n",
    "    go.Scatter(x=time, y=pred_force.ravel() - std, fill='tonexty', line=dict(color='black', dash='dash'), name='&plusmn; 2*\\u03C3 range', fillcolor='rgba(0, 0, 0, 0.2)'),\n",
    "    go.Scatter(x=time, y=y, marker=dict(color='red'), name='measured'),\n",
    "    go.Scatter(x=time, y=pred_force.ravel(), marker=dict(color='black'), name='predicted'),\n",
    "    ])\n",
    "    fig.update_xaxes(title_text='Time after cut start [s]')\n",
    "    fig.update_yaxes(title_text='Cutting force [N]')\n",
    "    fig.show()\n"
   ]
  },
  {
   "cell_type": "code",
   "execution_count": null,
   "metadata": {},
   "outputs": [],
   "source": []
  }
 ],
 "metadata": {
  "kernelspec": {
   "display_name": "Python 3",
   "language": "python",
   "name": "python3"
  },
  "language_info": {
   "codemirror_mode": {
    "name": "ipython",
    "version": 3
   },
   "file_extension": ".py",
   "mimetype": "text/x-python",
   "name": "python",
   "nbconvert_exporter": "python",
   "pygments_lexer": "ipython3",
   "version": "3.7.9"
  }
 },
 "nbformat": 4,
 "nbformat_minor": 4
}
