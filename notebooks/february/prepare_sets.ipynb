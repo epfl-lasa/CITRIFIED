{
 "cells": [
  {
   "cell_type": "markdown",
   "metadata": {
    "pycharm": {
     "name": "#%% md\n"
    }
   },
   "source": [
    "# Prepare train and test sets"
   ]
  },
  {
   "cell_type": "code",
   "execution_count": null,
   "metadata": {
    "pycharm": {
     "name": "#%%\n"
    }
   },
   "outputs": [],
   "source": [
    "import os\n",
    "import matplotlib.pyplot as plt\n",
    "import pandas as pd\n",
    "import pickle\n",
    "from sklearn.model_selection import train_test_split"
   ]
  },
  {
   "cell_type": "markdown",
   "metadata": {},
   "source": [
    "## Data choice"
   ]
  },
  {
   "cell_type": "code",
   "execution_count": null,
   "metadata": {
    "pycharm": {
     "name": "#%%\n"
    }
   },
   "outputs": [],
   "source": [
    "fruit = 'orange'"
   ]
  },
  {
   "cell_type": "code",
   "execution_count": null,
   "metadata": {
    "pycharm": {
     "name": "#%%\n"
    }
   },
   "outputs": [],
   "source": [
    "cut_type = 'cut'"
   ]
  },
  {
   "cell_type": "code",
   "execution_count": null,
   "metadata": {
    "pycharm": {
     "name": "#%%\n"
    }
   },
   "outputs": [],
   "source": [
    "train_percentage = 0.7\n",
    "max_size_dataset = 1200"
   ]
  },
  {
   "cell_type": "markdown",
   "metadata": {},
   "source": [
    "## Segmented data reading"
   ]
  },
  {
   "cell_type": "code",
   "execution_count": null,
   "metadata": {
    "pycharm": {
     "name": "#%%\n"
    }
   },
   "outputs": [],
   "source": [
    "pickle_in = open('segmented_' + cut_type + 's_' + fruit + '.pickle', 'rb')\n",
    "segmented_runs = pickle.load(pickle_in)"
   ]
  },
  {
   "cell_type": "code",
   "execution_count": null,
   "metadata": {
    "pycharm": {
     "name": "#%%\n"
    }
   },
   "outputs": [],
   "source": [
    "all_data_df = pd.DataFrame()\n",
    "desired_headers = ['displacement', 'ee_force_x']\n",
    "\n",
    "for file, data in segmented_runs.items():\n",
    "    if file.split('_')[5] != '0.005000':\n",
    "        continue\n",
    "    data = data[data['phase'] == 1]\n",
    "    data = data[desired_headers]\n",
    "    all_data_df = pd.concat([all_data_df, data])\n",
    "\n",
    "#print(all_data_df)\n",
    "del file, data\n",
    "total_samples = len(all_data_df.index)\n",
    "print(total_samples)\n",
    "plt.plot(all_data_df['displacement'], all_data_df['ee_force_x'], '.')\n",
    "plt.show()"
   ]
  },
  {
   "cell_type": "markdown",
   "metadata": {
    "pycharm": {
     "name": "#%% md\n"
    }
   },
   "source": [
    "## Downsample and split dataset\n"
   ]
  },
  {
   "cell_type": "code",
   "execution_count": null,
   "metadata": {
    "pycharm": {
     "name": "#%%\n"
    }
   },
   "outputs": [],
   "source": [
    "X_train, X_test, y_train, y_test = train_test_split(all_data_df['displacement'].values, \n",
    "                                                    all_data_df['ee_force_x'].values,\n",
    "                                                    test_size=int(max_size_dataset * (1 - train_percentage)),\n",
    "                                                    train_size=int(max_size_dataset * train_percentage),\n",
    "                                                    random_state=42)\n",
    "\n",
    "plt.plot(X_train, y_train, '.')\n",
    "plt.plot(X_test, y_test, '.')\n",
    "plt.show()"
   ]
  },
  {
   "cell_type": "markdown",
   "metadata": {},
   "source": [
    "## Export"
   ]
  },
  {
   "cell_type": "code",
   "execution_count": null,
   "metadata": {},
   "outputs": [],
   "source": [
    "if not os.path.isdir(\"splits\"):\n",
    "    os.mkdir(\"splits\")\n",
    "\n",
    "splits_dict = {'X_train': X_train, 'X_test': X_test, 'y_train': y_train, 'y_test': y_test}\n",
    "pickle_out = open('splits/splits_' + fruit + '_' + cut_type + 's.pickle', 'wb')\n",
    "pickle.dump(splits_dict, pickle_out)\n",
    "pickle_out.close()\n",
    "\n",
    "splits_df = pd.DataFrame()\n",
    "splits_df['X_train'] = X_train\n",
    "splits_df['y_train'] = y_train\n",
    "splits_df.to_csv(\"splits/train_splits_\" + fruit + '_' + cut_type + \"s.csv\", index=False)\n",
    "\n",
    "splits_df = pd.DataFrame()\n",
    "splits_df['X_test'] = X_test\n",
    "splits_df['y_test'] = y_test\n",
    "splits_df.to_csv(\"splits/test_splits_\" + fruit + '_' + cut_type + \"s.csv\", index=False)"
   ]
  },
  {
   "cell_type": "code",
   "execution_count": null,
   "metadata": {},
   "outputs": [],
   "source": []
  }
 ],
 "metadata": {
  "kernelspec": {
   "display_name": "Python 3",
   "language": "python",
   "name": "python3"
  },
  "language_info": {
   "codemirror_mode": {
    "name": "ipython",
    "version": 3
   },
   "file_extension": ".py",
   "mimetype": "text/x-python",
   "name": "python",
   "nbconvert_exporter": "python",
   "pygments_lexer": "ipython3",
   "version": "3.7.9"
  }
 },
 "nbformat": 4,
 "nbformat_minor": 1
}
