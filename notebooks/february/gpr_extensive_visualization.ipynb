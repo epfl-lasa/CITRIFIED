{
 "cells": [
  {
   "cell_type": "markdown",
   "metadata": {
    "pycharm": {
     "name": "#%% md\n"
    }
   },
   "source": [
    "# Different visualizations and GPR trials for orange cuts"
   ]
  },
  {
   "cell_type": "code",
   "execution_count": null,
   "metadata": {
    "pycharm": {
     "name": "#%%\n"
    }
   },
   "outputs": [],
   "source": [
    "from glob import glob\n",
    "from os.path import join\n",
    "import os\n",
    "import numpy as np\n",
    "import matplotlib.pyplot as plt\n",
    "import pandas as pd\n",
    "import pickle\n",
    "from sklearn.utils import resample\n",
    "from sklearn.preprocessing import StandardScaler\n",
    "from sklearn.model_selection import GridSearchCV\n",
    "from sklearn.gaussian_process import GaussianProcessRegressor\n",
    "from sklearn.gaussian_process.kernels import RBF, ConstantKernel, WhiteKernel\n",
    "from sklearn.metrics import mean_squared_error, make_scorer\n",
    "from plotly.subplots import make_subplots\n",
    "import plotly.graph_objects as go\n",
    "import plotly.express as px"
   ]
  },
  {
   "cell_type": "markdown",
   "metadata": {},
   "source": [
    "## Data choice"
   ]
  },
  {
   "cell_type": "code",
   "execution_count": null,
   "metadata": {
    "pycharm": {
     "name": "#%%\n"
    }
   },
   "outputs": [],
   "source": [
    "fruit = 'orange'"
   ]
  },
  {
   "cell_type": "code",
   "execution_count": null,
   "metadata": {
    "pycharm": {
     "name": "#%%\n"
    }
   },
   "outputs": [],
   "source": [
    "cut_type = 'cut'"
   ]
  },
  {
   "cell_type": "markdown",
   "metadata": {},
   "source": [
    "## Read data sets"
   ]
  },
  {
   "cell_type": "code",
   "execution_count": null,
   "metadata": {
    "pycharm": {
     "name": "#%%\n"
    }
   },
   "outputs": [],
   "source": [
    "pickle_in = open('splits/splits_' + fruit + '_' + cut_type + 's.pickle', 'rb')\n",
    "splits_dict = pickle.load(pickle_in)\n",
    "\n",
    "pickle_in = open('segmented_' + cut_type + 's_' + fruit + '.pickle', 'rb')\n",
    "segmented_runs = pickle.load(pickle_in)"
   ]
  },
  {
   "cell_type": "code",
   "execution_count": null,
   "metadata": {
    "pycharm": {
     "name": "#%% Plot all trajectories\n"
    },
    "scrolled": false
   },
   "outputs": [],
   "source": [
    "x_force_displacement_fig = go.Figure()\n",
    "x_force_dis_fig_grey = go.Figure()\n",
    "\n",
    "total_samples = 0\n",
    "for k, (name, r) in enumerate(segmented_runs.items()):\n",
    "    if name.split('_')[5] != '0.005000':\n",
    "        continue\n",
    "    total_samples += len(r.index)\n",
    "    x_force_displacement_fig.add_trace(go.Scatter(\n",
    "            x=1e3*r['displacement'],\n",
    "            y=-r['ee_force_x'],\n",
    "            # mode='markers',\n",
    "            showlegend=False))\n",
    "    if k == 0:\n",
    "        x_force_dis_fig_grey.add_trace(go.Scatter(\n",
    "            x=1e3*r['displacement'],\n",
    "            y=-r['ee_force_x'],\n",
    "            line=dict(color='grey'),\n",
    "            opacity=.5,\n",
    "            name='Training data'))\n",
    "    else:\n",
    "        x_force_dis_fig_grey.add_trace(go.Scatter(\n",
    "            x=1e3*r['displacement'],\n",
    "            y=-r['ee_force_x'],\n",
    "            line=dict(color='grey'),\n",
    "            opacity=.5,\n",
    "            name='training',\n",
    "            showlegend=False))\n",
    "\n",
    "\n",
    "x_force_displacement_fig.update_layout(\n",
    "    width=1000,\n",
    "    height=350,\n",
    "    title={\n",
    "        'text': \"Robot orange cuts, \" + str(k+1) + \" runs, \" + str(total_samples) + \" datapoints\",\n",
    "        'x':0.5,\n",
    "        'xanchor': 'center'},\n",
    "    xaxis_title=\"Arc length from cut start [mm]\",\n",
    "    yaxis_title=\"Cutting force [N]\",\n",
    "    font=dict(\n",
    "        # family=\"Courier New, monospace\",\n",
    "        size=18,\n",
    "    )\n",
    ")\n",
    "x_force_displacement_fig.update_yaxes(range=[0, 6])\n",
    "x_force_displacement_fig.show()\n",
    "\n",
    "x_force_dis_fig_grey.update_layout(\n",
    "    title={\n",
    "        'text': '-'.join([fruit, cut_type]) + \", GPR trained on 1000 data points with 5-Fold CV\",\n",
    "        'x':0.5,\n",
    "        'xanchor': 'center'},\n",
    "    xaxis_title=\"Arc length from cut start [mm]\",\n",
    "    yaxis_title=\"Cutting force [N]\",\n",
    "    font=dict(\n",
    "        size=18,\n",
    "    )\n",
    ")\n",
    "x_force_dis_fig_grey.update_yaxes(range=[0, 6])\n",
    "#x_force_dis_fig_grey.show()"
   ]
  },
  {
   "cell_type": "markdown",
   "metadata": {},
   "source": [
    "## Normalize and sort data"
   ]
  },
  {
   "cell_type": "code",
   "execution_count": null,
   "metadata": {},
   "outputs": [],
   "source": [
    "scaler = StandardScaler()\n",
    "\n",
    "sorting = np.argsort(1e3*splits_dict['X_train'])\n",
    "X_train = 1e3*splits_dict['X_train'][sorting]\n",
    "X_train = np.atleast_2d(X_train).T\n",
    "y_train_norm = scaler.fit_transform(splits_dict['y_train'].reshape(-1,1))\n",
    "y_train_norm = y_train_norm[sorting].T.ravel()\n",
    "\n",
    "sorting = np.argsort(1e3*splits_dict['X_test'])\n",
    "X_test = 1e3*splits_dict['X_test'][sorting]\n",
    "X_test = np.atleast_2d(X_test).T\n",
    "y_test = np.atleast_2d(splits_dict['y_test'][sorting]).T.ravel()"
   ]
  },
  {
   "cell_type": "markdown",
   "metadata": {
    "pycharm": {
     "name": "#%% md\n"
    }
   },
   "source": [
    "## GPR fit on downsampled displacement-cutting force"
   ]
  },
  {
   "cell_type": "code",
   "execution_count": null,
   "metadata": {},
   "outputs": [],
   "source": [
    "kernel = RBF(0.05, length_scale_bounds='fixed') + WhiteKernel(0.05, noise_level_bounds='fixed')\n",
    "#kernel = RBF(3) + WhiteKernel(1)\n",
    "gpr = GaussianProcessRegressor(kernel=kernel,\n",
    "                               normalize_y=False,\n",
    "                               n_restarts_optimizer=10,\n",
    "                               random_state=42)\n",
    "gpr.fit(X_train, y_train_norm)\n",
    "\n",
    "print(mean_squared_error(y_train_norm, gpr.predict(X_train)))\n",
    "print(mean_squared_error(y_test, scaler.inverse_transform(gpr.predict(X_test).reshape(-1,1)).ravel()))\n",
    "print(gpr.score(X_test, scaler.transform(y_test.reshape(-1,1)).ravel()))\n",
    "print(gpr.kernel_)\n",
    "res, std = gpr.predict(X_test, return_std=True)\n",
    "plt.plot(X_train, y_train_norm, '.')\n",
    "plt.plot(X_test, res)\n",
    "plt.plot(X_test, res + 2*(std))\n",
    "plt.plot(X_test, res - 2*(std))\n",
    "plt.legend(['train data', 'mean', 'mean + 2*std', 'mean - 2*std'])\n",
    "plt.show()"
   ]
  },
  {
   "cell_type": "markdown",
   "metadata": {},
   "source": [
    "## GPR with Grid Search CV on downsampled displacement-cutting force"
   ]
  },
  {
   "cell_type": "code",
   "execution_count": null,
   "metadata": {
    "scrolled": false
   },
   "outputs": [],
   "source": [
    "sigmas = [0.01, 0.1, 0.5, 1, 5, 10, 25, 50, 100]\n",
    "lengthscales = [0.1, 0.5, 1, 5, 10, 20]\n",
    "\n",
    "train_mse = pd.DataFrame(columns=sigmas, index=lengthscales)\n",
    "test_mse = pd.DataFrame(columns=sigmas, index=lengthscales)\n",
    "\n",
    "for ls in lengthscales:\n",
    "    for sigma in sigmas:\n",
    "        gpr = GaussianProcessRegressor(kernel=RBF(ls, length_scale_bounds='fixed') + WhiteKernel(sigma, noise_level_bounds='fixed'),\n",
    "                                       normalize_y=True,\n",
    "                                       n_restarts_optimizer=0,\n",
    "                                       random_state=42)\n",
    "        gpr.fit(X_train, y_train_norm) \n",
    "        test_mse[sigma][ls] = mean_squared_error(y_train_norm, gpr.predict(X_train))\n",
    "        train_mse[sigma][ls] = mean_squared_error(y_test, scaler.inverse_transform(gpr.predict(X_test).reshape(-1,1)).ravel())\n",
    "\n",
    "\n",
    "subplot_titles = [\"lengthscale \" + str(x) for x in lengthscales]\n",
    "fig = make_subplots(rows=3, cols=2, x_title='Sigma', shared_xaxes=True, \n",
    "                    subplot_titles=subplot_titles)\n",
    "for i in range(3):\n",
    "    for j in range(2):\n",
    "        idx = i * 2 + j\n",
    "        fig.append_trace(go.Scatter(\n",
    "            x=sigmas,\n",
    "            y=[train_mse[sigma][lengthscales[idx]] for sigma in sigmas],\n",
    "            showlegend=False,\n",
    "            line=dict(color='red')\n",
    "        ), row=i+1, col=j+1)\n",
    "        fig.append_trace(go.Scatter(\n",
    "            x=sigmas,\n",
    "            y=[test_mse[sigma][lengthscales[idx]] for sigma in sigmas],\n",
    "            showlegend=False,\n",
    "            line=dict(color='blue')\n",
    "        ), row=i+1, col=j+1)\n",
    "\n",
    "fig.update_xaxes(type=\"log\")\n",
    "fig.update_yaxes(range=[0.6, 1])\n",
    "fig.update_layout(height=600, width=800)\n",
    "fig.show()\n",
    "\n",
    "subplot_titles = [\"sigma \" + str(x) for x in sigmas]\n",
    "fig = make_subplots(rows=4, cols=2, x_title='Lengthscale', shared_xaxes=True, \n",
    "                    subplot_titles=subplot_titles)\n",
    "for i in range(4):\n",
    "    for j in range(2):\n",
    "        idx = i * 2 + j\n",
    "        fig.append_trace(go.Scatter(\n",
    "            x=lengthscales,\n",
    "            y=[train_mse[sigmas[idx]][ls] for ls in lengthscales],\n",
    "            showlegend=False,\n",
    "            line=dict(color='red')\n",
    "        ), row=i+1, col=j+1)\n",
    "        fig.append_trace(go.Scatter(\n",
    "            x=lengthscales,\n",
    "            y=[test_mse[sigmas[idx]][ls] for ls in lengthscales],\n",
    "            showlegend=False,\n",
    "            line=dict(color='blue')\n",
    "        ), row=i+1, col=j+1)\n",
    "\n",
    "fig.update_xaxes(type=\"log\")\n",
    "fig.update_yaxes(range=[0.6, 1])\n",
    "fig.update_layout(height=600, width=800)\n",
    "fig.show()\n",
    "\n",
    "x, y, sizes = [], [], []\n",
    "for sigma in sigmas:\n",
    "    x.extend([sigma] * len(lengthscales))\n",
    "    y.extend(lengthscales)\n",
    "    sizes.extend(train_mse[sigma].values.tolist())\n",
    "    \n",
    "fig = go.Figure(data=go.Scatter(\n",
    "    x=x,\n",
    "    y=y,\n",
    "    mode='markers',\n",
    "    marker=dict(size=sizes)\n",
    "))\n",
    "#fig.show()\n"
   ]
  },
  {
   "cell_type": "code",
   "execution_count": null,
   "metadata": {
    "pycharm": {
     "name": "#%%\n"
    }
   },
   "outputs": [],
   "source": [
    "scorer = make_scorer(mean_squared_error, greater_is_better=False)\n",
    "kernel = RBF(length_scale_bounds='fixed') + WhiteKernel(noise_level_bounds='fixed')\n",
    "#kernel = RBF() + WhiteKernel()\n",
    "gpr = GaussianProcessRegressor(kernel=kernel,\n",
    "                               normalize_y=False,\n",
    "                               n_restarts_optimizer=10,\n",
    "                               random_state=42)\n",
    "\n",
    "config = {'kernel__k1__length_scale': [0.1, 0.5, 1, 5, 10, 20],\n",
    "          'kernel__k2__noise_level': [20, 15, 10, 6, 5, 2, 1, 0.5, 0.1]}\n",
    "search = GridSearchCV(estimator=gpr,\n",
    "                      param_grid=[config],\n",
    "                      scoring=scorer,\n",
    "                      n_jobs=-1,\n",
    "                      verbose=0)\n",
    "search.fit(X_train, y_train_norm)\n",
    "print(search.best_params_)"
   ]
  },
  {
   "cell_type": "code",
   "execution_count": null,
   "metadata": {
    "pycharm": {
     "name": "#%%\n"
    }
   },
   "outputs": [],
   "source": [
    "rbf_kernel = RBF(search.best_params_['kernel__k1__length_scale'], length_scale_bounds='fixed')\n",
    "white_kernel = WhiteKernel(search.best_params_['kernel__k2__noise_level'], noise_level_bounds='fixed')\n",
    "gpr = GaussianProcessRegressor(kernel=rbf_kernel + white_kernel,\n",
    "                               normalize_y=False,\n",
    "                               n_restarts_optimizer=0,\n",
    "                               random_state=42)\n",
    "gpr.fit(X_train,y_train_norm)\n",
    "print(gpr.get_params())\n",
    "\n",
    "print(gpr.score(X_test, scaler.transform(y_test.reshape(-1,1)).ravel()))\n",
    "print(mean_squared_error(y_test, scaler.inverse_transform(gpr.predict(X_test))))\n",
    "res, std = gpr.predict(X_test, return_std=True)\n",
    "plt.plot(X_train, y_train_norm, '.')\n",
    "plt.plot(X_test, res)\n",
    "plt.plot(X_test, res + 2*(std))\n",
    "plt.plot(X_test, res - 2*(std))\n",
    "plt.rcParams[\"figure.figsize\"] = (10,10)\n",
    "plt.legend(['train data', 'mean', 'mean + 2*std', 'mean - 2*std'])\n",
    "plt.show()"
   ]
  },
  {
   "cell_type": "code",
   "execution_count": null,
   "metadata": {},
   "outputs": [],
   "source": []
  }
 ],
 "metadata": {
  "kernelspec": {
   "display_name": "Python 3",
   "language": "python",
   "name": "python3"
  },
  "language_info": {
   "codemirror_mode": {
    "name": "ipython",
    "version": 3
   },
   "file_extension": ".py",
   "mimetype": "text/x-python",
   "name": "python",
   "nbconvert_exporter": "python",
   "pygments_lexer": "ipython3",
   "version": "3.7.9"
  }
 },
 "nbformat": 4,
 "nbformat_minor": 1
}
