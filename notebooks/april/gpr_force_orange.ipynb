{
 "cells": [
  {
   "cell_type": "code",
   "execution_count": null,
   "metadata": {},
   "outputs": [],
   "source": [
    "import os\n",
    "import numpy as np\n",
    "from scipy.io import loadmat\n",
    "from sklearn.utils import resample\n",
    "from sklearn.preprocessing import StandardScaler\n",
    "from sklearn.model_selection import train_test_split\n",
    "from sklearn.gaussian_process import GaussianProcessRegressor\n",
    "from sklearn.gaussian_process.kernels import RBF, Matern, WhiteKernel\n",
    "from sklearn.metrics import mean_squared_error, make_scorer\n",
    "from plotly.subplots import make_subplots\n",
    "import plotly.graph_objects as go\n",
    "import plotly.express as px\n",
    "import pickle"
   ]
  },
  {
   "cell_type": "code",
   "execution_count": null,
   "metadata": {},
   "outputs": [],
   "source": [
    "dataset_size = 2000\n",
    "test_size = 0.3"
   ]
  },
  {
   "cell_type": "markdown",
   "metadata": {},
   "source": [
    "## Load data from mat"
   ]
  },
  {
   "cell_type": "code",
   "execution_count": null,
   "metadata": {},
   "outputs": [],
   "source": [
    "data = loadmat('../mat_files/orange_straight_train.mat')\n",
    "y = data['y_train']\n",
    "X = data['X_train']\n",
    "X[:,0] = [-10*x for x in X[:,0]]\n",
    "X, y = resample(X, y, n_samples=dataset_size, replace=False, random_state=42)\n",
    "X_train, X_test, y_train, y_test = train_test_split(X, y, test_size=test_size, random_state=42)"
   ]
  },
  {
   "cell_type": "markdown",
   "metadata": {},
   "source": [
    "## Normalize data"
   ]
  },
  {
   "cell_type": "code",
   "execution_count": null,
   "metadata": {},
   "outputs": [],
   "source": [
    "scaler = StandardScaler()\n",
    "y_train_norm =scaler.fit_transform(y_train)\n",
    "y_test_norm = scaler.transform(y_test)"
   ]
  },
  {
   "cell_type": "markdown",
   "metadata": {},
   "source": [
    "## GPR"
   ]
  },
  {
   "cell_type": "code",
   "execution_count": null,
   "metadata": {},
   "outputs": [],
   "source": [
    "#kernel = RBF([0.00469, 0.0039], length_scale_bounds='fixed') + WhiteKernel(0.0663, noise_level_bounds='fixed') # 2000, 0.3, aniso\n",
    "kernel = RBF([0.006, 0.003], length_scale_bounds='fixed') + WhiteKernel(0.008, noise_level_bounds='fixed') # 2000, 0.3\n",
    "#kernel = RBF([0.01, 0.01]) + WhiteKernel()\n",
    "gpr = GaussianProcessRegressor(kernel=kernel,\n",
    "                               normalize_y=False,\n",
    "                               n_restarts_optimizer=10,\n",
    "                               random_state=42)\n",
    "gpr.fit(X_train, y_train_norm)\n"
   ]
  },
  {
   "cell_type": "code",
   "execution_count": null,
   "metadata": {},
   "outputs": [],
   "source": [
    "#with open('gpr_rbf.pickle', 'wb') as f:\n",
    "#    pickle.dump({'gpr': gpr, 'scaler': scaler}, f)"
   ]
  },
  {
   "cell_type": "code",
   "execution_count": null,
   "metadata": {},
   "outputs": [],
   "source": [
    "#kernel = Matern([0.00312, 0.00363], length_scale_bounds='fixed', nu=1.5) + WhiteKernel(0.0307, noise_level_bounds='fixed') # 2000, 0.3, aniso\n",
    "kernel = Matern([0.02, 0.01], length_scale_bounds='fixed', nu=1.5) + WhiteKernel(0.01, noise_level_bounds='fixed') # 2000, 0.3, aniso\n",
    "#kernel = Matern([0.01, 0.01], nu=1.5) + WhiteKernel()\n",
    "gpr = GaussianProcessRegressor(kernel=kernel,\n",
    "                               normalize_y=False,\n",
    "                               n_restarts_optimizer=10,\n",
    "                               random_state=42)\n",
    "gpr.fit(X_train, y_train_norm)"
   ]
  },
  {
   "cell_type": "code",
   "execution_count": null,
   "metadata": {},
   "outputs": [],
   "source": [
    "#kernel = Matern([0.00246, 0.00287], length_scale_bounds='fixed', nu=2.5) + WhiteKernel(0.0369, noise_level_bounds='fixed') # 2000, 0.3, aniso\n",
    "kernel = Matern([0.025, 0.015], length_scale_bounds='fixed', nu=2.5) + WhiteKernel(0.01, noise_level_bounds='fixed') # 2000, 0.3, aniso\n",
    "#kernel = Matern([0.01, 0.01], nu=2.5) + WhiteKernel()\n",
    "gpr = GaussianProcessRegressor(kernel=kernel,\n",
    "                               normalize_y=False,\n",
    "                               n_restarts_optimizer=10,\n",
    "                               random_state=42)\n",
    "gpr.fit(X_train, y_train_norm)"
   ]
  },
  {
   "cell_type": "code",
   "execution_count": null,
   "metadata": {},
   "outputs": [],
   "source": [
    "#print(gpr.get_params())\n",
    "print(gpr.kernel_)"
   ]
  },
  {
   "cell_type": "markdown",
   "metadata": {},
   "source": [
    "## Plot"
   ]
  },
  {
   "cell_type": "code",
   "execution_count": null,
   "metadata": {
    "scrolled": false
   },
   "outputs": [],
   "source": [
    "X1, X2 = np.meshgrid(np.linspace(np.min(X_train[:,0]),np.max(X_train[:,0]),100),np.linspace(np.min(X_train[:,1]),np.max(X_train[:,1]),100))\n",
    "Y = np.zeros((100,100))\n",
    "Y_upper = np.zeros((100,100))\n",
    "Y_lower = np.zeros((100,100))\n",
    "for i in range(100):\n",
    "    for j in range(100):\n",
    "        res, std = gpr.predict(np.array([X1[i,j], X2[i,j]]).reshape(1,-1), return_std=True)\n",
    "        Y[i,j] = scaler.inverse_transform(res)\n",
    "        Y_upper[i,j] = Y[i,j] + 2*np.sqrt(std) * scaler.scale_\n",
    "        Y_lower[i,j] = Y[i,j] - 2*np.sqrt(std) * scaler.scale_\n",
    "        \n",
    "        \n",
    "#X1, X2 = np.meshgrid(np.sort(X_test[:,0]), np.sort(X_test[:,1]))\n",
    "#Y = np.zeros(X1.shape)\n",
    "#Y_upper = np.zeros(X1.shape)\n",
    "#Y_lower = np.zeros(X1.shape)\n",
    "#for i in range(Y.shape[0]):\n",
    "#    for j in range(Y.shape[1]):\n",
    "#        res, std = gpr.predict(np.array([X1[i,j], X2[i,j]]).reshape(1,-1), return_std=True)\n",
    "#        Y[i,j] = scaler.inverse_transform(res)\n",
    "#        Y_upper[i,j] = Y[i,j] + 2*np.sqrt(std) * scaler.scale_\n",
    "#        Y_lower[i,j] = Y[i,j] - 2*np.sqrt(std) * scaler.scale_\n",
    "\n",
    "fig = go.Figure(data=[\n",
    "    go.Surface(z=Y, x=X1, y=X2),\n",
    "    go.Scatter3d(x=X_train[:,0].ravel(), y=X_train[:,1].ravel(), z=y_train.ravel(), mode='markers',\n",
    "                 marker=dict(opacity=1, size=1, color='black')),\n",
    "    go.Surface(z=Y_upper, x=X1, y=X2, showscale=False, opacity=0.9),\n",
    "    go.Surface(z=Y_lower, x=X1, y=X2, showscale=False, opacity=0.9),\n",
    "    ])\n",
    "fig.update_layout(scene = dict(\n",
    "                    xaxis_title='Depth [cm]',\n",
    "                    yaxis_title='Linear Velocity [m/s]',\n",
    "                    zaxis_title='Force [N]'),\n",
    "                    width=700,\n",
    "                    margin=dict(r=20, b=10, l=10, t=10))\n",
    "fig.show()"
   ]
  },
  {
   "cell_type": "code",
   "execution_count": null,
   "metadata": {},
   "outputs": [],
   "source": []
  }
 ],
 "metadata": {
  "kernelspec": {
   "display_name": "Python 3",
   "language": "python",
   "name": "python3"
  },
  "language_info": {
   "codemirror_mode": {
    "name": "ipython",
    "version": 3
   },
   "file_extension": ".py",
   "mimetype": "text/x-python",
   "name": "python",
   "nbconvert_exporter": "python",
   "pygments_lexer": "ipython3",
   "version": "3.7.9"
  }
 },
 "nbformat": 4,
 "nbformat_minor": 4
}
